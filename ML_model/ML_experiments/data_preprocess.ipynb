{
 "cells": [
  {
   "cell_type": "code",
   "id": "initial_id",
   "metadata": {
    "collapsed": true,
    "ExecuteTime": {
     "end_time": "2025-04-26T10:48:27.595395Z",
     "start_time": "2025-04-26T10:48:26.743779Z"
    }
   },
   "source": [
    "import math\n",
    "import time\n",
    "\n",
    "from IPython.core.pylabtools import figsize\n",
    "from matplotlib import pyplot as plt\n",
    "from matplotlib.animation import FuncAnimation\n",
    "import numpy as np\n",
    "import pandas as pd\n",
    "from numpy.ma.extras import average\n",
    "\n",
    "from scipy import fft\n",
    "from tensorboard.compat.tensorflow_stub.errors import OutOfRangeError\n",
    "from tqdm import tqdm\n",
    "from collections import defaultdict\n",
    "\n",
    "#%matplotlib notebook\n",
    "#%matplotlib widget\n",
    "%matplotlib ipympl\n",
    "#%matplotlib inline\n"
   ],
   "outputs": [],
   "execution_count": 4
  },
  {
   "metadata": {
    "ExecuteTime": {
     "end_time": "2025-04-26T10:48:27.611414Z",
     "start_time": "2025-04-26T10:48:27.597397Z"
    }
   },
   "cell_type": "code",
   "source": [
    "dataset_path = \"../../Data/OscData2.csv\"\n",
    "#dataset_path = \"../../Data/datset_v1.csv\"\n",
    "period_size = 32\n",
    "window_period_cnt = 4\n",
    "wsz = period_size * window_period_cnt\n",
    "data_channel = 3\n",
    "etal_sim_th = 0.5  # max value of standard deviation with etalon\n",
    "file_prefix = \"\"\n",
    "#file_prefix = \"b629f3bb07ef79f5845c27daa0a83425\"\n",
    "#file_prefix = \"0a3cba1c0d3a410500489925e5282827\"\n",
    "\n",
    "feats = [\"IA\", \"IC\", \"UA BB\", \"UB BB\", \"UC BB\"]  #, \"UN BB\"\n",
    "#feats = [\"UA BB\", \"UB BB\", \"UC BB\", \"UN BB\"]\n",
    "\n",
    "adjust_ampl_feats = {\"IA\", \"IB\", \"IC\"}  # \"UN BB\"\n",
    "adjust_ampl_factor = 2\n"
   ],
   "id": "462dcc8c3a92004a",
   "outputs": [],
   "execution_count": 5
  },
  {
   "metadata": {
    "ExecuteTime": {
     "end_time": "2025-04-26T10:48:28.048548Z",
     "start_time": "2025-04-26T10:48:28.043270Z"
    }
   },
   "cell_type": "code",
   "source": [
    "\n",
    "x_fft = fft.rfftfreq(wsz, 1.0 / period_size)\n",
    "fftsz = len(x_fft)\n",
    "etal_weight = np.ones(fftsz)\n",
    "\n",
    "window_func = np.hanning(wsz)\n",
    "window_func /= np.sqrt(np.average(window_func ** 2))\n",
    "\n",
    "#device = torch.device('cuda' if torch.cuda.is_available() else 'cpu')"
   ],
   "id": "d0bc17a41b76347",
   "outputs": [],
   "execution_count": 6
  },
  {
   "metadata": {
    "ExecuteTime": {
     "end_time": "2025-04-26T10:48:28.795357Z",
     "start_time": "2025-04-26T10:48:28.701711Z"
    }
   },
   "cell_type": "code",
   "source": [
    "data = pd.read_csv(dataset_path)\n",
    "op_names = ['opr_swch', 'abnorm_evnt', 'emerg_evnt', 'normal']\n",
    "\n",
    "data[op_names] = data[op_names].fillna(value=0)\n",
    "data.fillna({\"IB\": 0}, inplace=True)\n",
    "data.dropna(axis=1, how='any', inplace=True)\n",
    "\n",
    "files = np.unique(data[\"file_name\"].values)\n",
    "matching_files = [x for x in files if x.startswith(file_prefix)]\n",
    "\n",
    "print(f\"Found {len(matching_files)} matching sequences\")\n",
    "\n",
    "target_file = matching_files[1]\n",
    "data = data[data[\"file_name\"] == target_file]\n",
    "\n",
    "print(f\"Working with file {target_file}\")\n"
   ],
   "id": "7812c0c0a0c05f48",
   "outputs": [
    {
     "name": "stdout",
     "output_type": "stream",
     "text": [
      "Found 66 matching sequences\n",
      "Working with file 031064763a753380d14b0526a0208858_Bus 2 _event N1\n"
     ]
    }
   ],
   "execution_count": 7
  },
  {
   "metadata": {
    "ExecuteTime": {
     "end_time": "2025-04-26T10:48:30.240196Z",
     "start_time": "2025-04-26T10:48:30.230689Z"
    }
   },
   "cell_type": "code",
   "source": "len(data)",
   "id": "45ac99e4fb9ae3a1",
   "outputs": [
    {
     "data": {
      "text/plain": [
       "667"
      ]
     },
     "execution_count": 8,
     "metadata": {},
     "output_type": "execute_result"
    }
   ],
   "execution_count": 8
  },
  {
   "metadata": {
    "ExecuteTime": {
     "end_time": "2025-04-26T10:48:30.943450Z",
     "start_time": "2025-04-26T10:48:30.925327Z"
    }
   },
   "cell_type": "code",
   "source": [
    "channel_ampls = defaultdict(lambda: 1, {\n",
    "    \"IA\": 1,\n",
    "    \"IB\": 1,\n",
    "    \"IC\": 1,\n",
    "    \"UA BB\": 84.5,\n",
    "    \"UB BB\": 84.5,\n",
    "    \"UC BB\": 84.5,\n",
    "    \"UN BB\": 1,\n",
    "})\n",
    "\n",
    "gr_feat = data.columns[data_channel]\n",
    "\n",
    "data_feat = data[gr_feat].values\n",
    "\n",
    "\n"
   ],
   "id": "a29181abe28a7328",
   "outputs": [],
   "execution_count": 9
  },
  {
   "metadata": {
    "ExecuteTime": {
     "end_time": "2025-04-26T10:48:31.863426Z",
     "start_time": "2025-04-26T10:48:31.852403Z"
    }
   },
   "cell_type": "code",
   "source": [
    "def norm_fft(seq, window_func=None):\n",
    "    n = len(seq)\n",
    "    if window_func is None:\n",
    "        window_func = np.ones_like(seq)\n",
    "\n",
    "    res = np.abs(fft.rfft(seq * window_func) / n)\n",
    "    res[1:] *= 2\n",
    "    return res\n",
    "\n",
    "\n",
    "def energy_diff(seq1, seq2, weights=None):  # sqrt(wave power difference)\n",
    "    if weights is None:\n",
    "        weights = np.ones(len(seq1))\n",
    "\n",
    "    return np.sqrt(np.sum((np.abs((seq1 ** 2) - (seq2 ** 2))) * weights))\n",
    "\n",
    "\n",
    "def etalon_cosine(n=wsz, amplitude=1):\n",
    "    return norm_fft(amplitude * np.cos(np.linspace(0, 2 * np.pi * n / period_size, n, endpoint=False)),\n",
    "                    window_func=window_func)\n"
   ],
   "id": "75325c7c3952c572",
   "outputs": [],
   "execution_count": 10
  },
  {
   "metadata": {
    "ExecuteTime": {
     "end_time": "2025-04-26T10:48:35.269578Z",
     "start_time": "2025-04-26T10:48:35.266576Z"
    }
   },
   "cell_type": "code",
   "source": [
    "#etal0 = (np.zeros(fftsz), np.concatenate((np.ones(window_period_cnt + 1), np.zeros(fftsz - window_period_cnt - 1))))\n",
    "etal0 = np.zeros(fftsz)\n",
    "\n",
    "#etal1 = (np.zeros(fftsz), np.concatenate((np.ones(window_period_cnt + 1), np.zeros(fftsz - window_period_cnt - 1))))\n",
    "etal1 = etalon_cosine(wsz, amplitude=1)"
   ],
   "id": "b22b0fae2934ccd0",
   "outputs": [],
   "execution_count": 11
  },
  {
   "metadata": {
    "ExecuteTime": {
     "end_time": "2025-04-26T10:39:19.059184Z",
     "start_time": "2025-04-26T10:39:19.014120Z"
    }
   },
   "cell_type": "code",
   "source": [
    "#%matplotlib ipympl\n",
    "%matplotlib notebook\n",
    "\n",
    "fig, (ax1, ax2, ax3, ax4) = plt.subplots(4)\n",
    "fig.set_size_inches(12, 8)\n",
    "plt.subplots_adjust(top=0.95, bottom=0.05, left=0.1, right=0.95, hspace=0.4)\n",
    "\n",
    "#rep_cnt = 30\n",
    "# X = np.sin(np.linspace(0, 2 * np.pi * rep_cnt, period_size * rep_cnt,\n",
    "#                        endpoint=False)) + np.sin(\n",
    "#     np.linspace(0, 1 * np.pi * rep_cnt, period_size * rep_cnt, endpoint=False))\n",
    "#X += np.ones_like(X)\n",
    "\n",
    "ax1.set_title(f\"Signal ({gr_feat})\")\n",
    "ax1.set_ylim(-2, 2)\n",
    "p1, = ax1.plot([], [], label=\"Signal\")\n",
    "p1_et, = ax1.plot([], [], label=\"Etalon\", linestyle=\"--\")\n",
    "\n",
    "ax2.set_title(\"Windowed signal\")\n",
    "ax2.set_ylim(-2, 2)\n",
    "p2, = ax2.plot([], [], label=\"Windowed signal\")\n",
    "\n",
    "ax3.set_yscale('log')\n",
    "ax3.set_xlim((0, np.max(x_fft)))\n",
    "ax3.set_ylim((0.01, 2))\n",
    "#plt.ylim((0, 2))\n",
    "\n",
    "sim0 = []\n",
    "sim1 = []\n",
    "\n",
    "ax3.set_title(\"Spectrum\")\n",
    "p3, = ax3.plot(x_fft, [0] * fftsz, label=\"Spectrum\")\n",
    "p3_e1, = ax3.plot(x_fft, etal1, label=\"Etalon\", color=\"black\")\n",
    "#p3_w, = ax3.plot(x_fft, etal_weight)\n",
    "p3_d2, = ax3.plot(x_fft, np.zeros(fftsz), label=\"Energy difference\", color=\"red\")\n",
    "\n",
    "ax3.legend()\n",
    "\n",
    "ax4.set_title(\"Pattern error\")\n",
    "ax4.set_xlim((0, wsz))\n",
    "ax4.set_yscale('log')\n",
    "ax4.set_ylim((0.1, 2))\n",
    "p4_0, = ax4.plot([], [], color=\"blue\", label=\"off etalon\")\n",
    "p4_1, = ax4.plot([], [], color=\"red\", label=\"sine etalon\")\n",
    "p4_th, = ax4.plot([-1000000, 1000000], [etal_sim_th, etal_sim_th], label=\"Threshold\", linestyle=\"--\")\n",
    "#p4_state, = ax4.plot(range(wsz), np.ones(wsz))\n",
    "ax4.legend()\n",
    "ax4.grid(True)\n",
    "\n",
    "\n",
    "# lpos=0\n",
    "# p1_et.set_xdata(range(lpos, lpos + wsz))\n",
    "# p1_et.set_ydata(np.cos(np.linspace(0, 2 * np.pi * wsz / period_size, wsz, endpoint=False)))\n",
    "# #print(etal0[1])\n",
    "\n",
    "\n",
    "def update(frame):\n",
    "    lpos = frame\n",
    "    seq = data_feat[lpos:lpos + wsz].copy()\n",
    "    #seq=np.zeros_like(seq)\n",
    "    ampl = channel_ampls[gr_feat]\n",
    "\n",
    "    if gr_feat in adjust_ampl_feats:\n",
    "        sig_ampl = np.average(np.abs(seq)) * np.pi / 2\n",
    "        dif = sig_ampl / ampl\n",
    "        ampl *= np.clip(dif, 1 / adjust_ampl_factor, adjust_ampl_factor)\n",
    "        p1_et.set_xdata(range(lpos, lpos + wsz))\n",
    "        p1_et.set_ydata(np.cos(np.linspace(0, 2 * np.pi * wsz / period_size, wsz, endpoint=False)) * sig_ampl / ampl)\n",
    "\n",
    "    seq /= ampl\n",
    "\n",
    "    seq_wind = seq * window_func\n",
    "    spec = norm_fft(seq, window_func)\n",
    "\n",
    "    ax1.set_xlim(lpos, lpos + wsz)\n",
    "    ax2.set_xlim(lpos, lpos + wsz)\n",
    "    ax4.set_xlim(lpos, lpos + wsz)\n",
    "\n",
    "    p1.set_xdata(range(lpos, lpos + wsz))\n",
    "    p1.set_ydata(seq)\n",
    "\n",
    "    p2.set_xdata(range(lpos, lpos + wsz))\n",
    "    p2.set_ydata(seq_wind)\n",
    "\n",
    "    p3.set_ydata(spec)\n",
    "    p3_d2.set_ydata(np.sqrt(np.abs((spec ** 2) - (etal1 ** 2))))\n",
    "\n",
    "    sim0.append(energy_diff(etal0, spec, weights=etal_weight))\n",
    "    sim1.append(energy_diff(etal1, spec, weights=etal_weight))\n",
    "\n",
    "    lsim = lpos + wsz - min(len(sim0), wsz)\n",
    "    p4_0.set_xdata(range(lsim, lpos + wsz))\n",
    "    p4_0.set_ydata(sim0[-min(len(sim0), wsz):])\n",
    "\n",
    "    p4_1.set_xdata(range(lsim, lpos + wsz))\n",
    "    p4_1.set_ydata(sim1[-min(len(sim1), wsz):])\n",
    "\n",
    "    return p1, p2, p3, p4_0, p4_1, p4_th,\n",
    "\n",
    "\n",
    "ani = FuncAnimation(fig, update, frames=range(1, 20800), interval=1, blit=True, repeat=False)\n",
    "#plt.show()\n"
   ],
   "id": "5014b3a9999de4d5",
   "outputs": [
    {
     "data": {
      "text/plain": [
       "<IPython.core.display.Javascript object>"
      ],
      "application/javascript": "/* Put everything inside the global mpl namespace */\n/* global mpl */\nwindow.mpl = {};\n\nmpl.get_websocket_type = function () {\n    if (typeof WebSocket !== 'undefined') {\n        return WebSocket;\n    } else if (typeof MozWebSocket !== 'undefined') {\n        return MozWebSocket;\n    } else {\n        alert(\n            'Your browser does not have WebSocket support. ' +\n                'Please try Chrome, Safari or Firefox ≥ 6. ' +\n                'Firefox 4 and 5 are also supported but you ' +\n                'have to enable WebSockets in about:config.'\n        );\n    }\n};\n\nmpl.figure = function (figure_id, websocket, ondownload, parent_element) {\n    this.id = figure_id;\n\n    this.ws = websocket;\n\n    this.supports_binary = this.ws.binaryType !== undefined;\n\n    if (!this.supports_binary) {\n        var warnings = document.getElementById('mpl-warnings');\n        if (warnings) {\n            warnings.style.display = 'block';\n            warnings.textContent =\n                'This browser does not support binary websocket messages. ' +\n                'Performance may be slow.';\n        }\n    }\n\n    this.imageObj = new Image();\n\n    this.context = undefined;\n    this.message = undefined;\n    this.canvas = undefined;\n    this.rubberband_canvas = undefined;\n    this.rubberband_context = undefined;\n    this.format_dropdown = undefined;\n\n    this.image_mode = 'full';\n\n    this.root = document.createElement('div');\n    this.root.setAttribute('style', 'display: inline-block');\n    this._root_extra_style(this.root);\n\n    parent_element.appendChild(this.root);\n\n    this._init_header(this);\n    this._init_canvas(this);\n    this._init_toolbar(this);\n\n    var fig = this;\n\n    this.waiting = false;\n\n    this.ws.onopen = function () {\n        fig.send_message('supports_binary', { value: fig.supports_binary });\n        fig.send_message('send_image_mode', {});\n        if (fig.ratio !== 1) {\n            fig.send_message('set_device_pixel_ratio', {\n                device_pixel_ratio: fig.ratio,\n            });\n        }\n        fig.send_message('refresh', {});\n    };\n\n    this.imageObj.onload = function () {\n        if (fig.image_mode === 'full') {\n            // Full images could contain transparency (where diff images\n            // almost always do), so we need to clear the canvas so that\n            // there is no ghosting.\n            fig.context.clearRect(0, 0, fig.canvas.width, fig.canvas.height);\n        }\n        fig.context.drawImage(fig.imageObj, 0, 0);\n    };\n\n    this.imageObj.onunload = function () {\n        fig.ws.close();\n    };\n\n    this.ws.onmessage = this._make_on_message_function(this);\n\n    this.ondownload = ondownload;\n};\n\nmpl.figure.prototype._init_header = function () {\n    var titlebar = document.createElement('div');\n    titlebar.classList =\n        'ui-dialog-titlebar ui-widget-header ui-corner-all ui-helper-clearfix';\n    var titletext = document.createElement('div');\n    titletext.classList = 'ui-dialog-title';\n    titletext.setAttribute(\n        'style',\n        'width: 100%; text-align: center; padding: 3px;'\n    );\n    titlebar.appendChild(titletext);\n    this.root.appendChild(titlebar);\n    this.header = titletext;\n};\n\nmpl.figure.prototype._canvas_extra_style = function (_canvas_div) {};\n\nmpl.figure.prototype._root_extra_style = function (_canvas_div) {};\n\nmpl.figure.prototype._init_canvas = function () {\n    var fig = this;\n\n    var canvas_div = (this.canvas_div = document.createElement('div'));\n    canvas_div.setAttribute('tabindex', '0');\n    canvas_div.setAttribute(\n        'style',\n        'border: 1px solid #ddd;' +\n            'box-sizing: content-box;' +\n            'clear: both;' +\n            'min-height: 1px;' +\n            'min-width: 1px;' +\n            'outline: 0;' +\n            'overflow: hidden;' +\n            'position: relative;' +\n            'resize: both;' +\n            'z-index: 2;'\n    );\n\n    function on_keyboard_event_closure(name) {\n        return function (event) {\n            return fig.key_event(event, name);\n        };\n    }\n\n    canvas_div.addEventListener(\n        'keydown',\n        on_keyboard_event_closure('key_press')\n    );\n    canvas_div.addEventListener(\n        'keyup',\n        on_keyboard_event_closure('key_release')\n    );\n\n    this._canvas_extra_style(canvas_div);\n    this.root.appendChild(canvas_div);\n\n    var canvas = (this.canvas = document.createElement('canvas'));\n    canvas.classList.add('mpl-canvas');\n    canvas.setAttribute(\n        'style',\n        'box-sizing: content-box;' +\n            'pointer-events: none;' +\n            'position: relative;' +\n            'z-index: 0;'\n    );\n\n    this.context = canvas.getContext('2d');\n\n    var backingStore =\n        this.context.backingStorePixelRatio ||\n        this.context.webkitBackingStorePixelRatio ||\n        this.context.mozBackingStorePixelRatio ||\n        this.context.msBackingStorePixelRatio ||\n        this.context.oBackingStorePixelRatio ||\n        this.context.backingStorePixelRatio ||\n        1;\n\n    this.ratio = (window.devicePixelRatio || 1) / backingStore;\n\n    var rubberband_canvas = (this.rubberband_canvas = document.createElement(\n        'canvas'\n    ));\n    rubberband_canvas.setAttribute(\n        'style',\n        'box-sizing: content-box;' +\n            'left: 0;' +\n            'pointer-events: none;' +\n            'position: absolute;' +\n            'top: 0;' +\n            'z-index: 1;'\n    );\n\n    // Apply a ponyfill if ResizeObserver is not implemented by browser.\n    if (this.ResizeObserver === undefined) {\n        if (window.ResizeObserver !== undefined) {\n            this.ResizeObserver = window.ResizeObserver;\n        } else {\n            var obs = _JSXTOOLS_RESIZE_OBSERVER({});\n            this.ResizeObserver = obs.ResizeObserver;\n        }\n    }\n\n    this.resizeObserverInstance = new this.ResizeObserver(function (entries) {\n        // There's no need to resize if the WebSocket is not connected:\n        // - If it is still connecting, then we will get an initial resize from\n        //   Python once it connects.\n        // - If it has disconnected, then resizing will clear the canvas and\n        //   never get anything back to refill it, so better to not resize and\n        //   keep something visible.\n        if (fig.ws.readyState != 1) {\n            return;\n        }\n        var nentries = entries.length;\n        for (var i = 0; i < nentries; i++) {\n            var entry = entries[i];\n            var width, height;\n            if (entry.contentBoxSize) {\n                if (entry.contentBoxSize instanceof Array) {\n                    // Chrome 84 implements new version of spec.\n                    width = entry.contentBoxSize[0].inlineSize;\n                    height = entry.contentBoxSize[0].blockSize;\n                } else {\n                    // Firefox implements old version of spec.\n                    width = entry.contentBoxSize.inlineSize;\n                    height = entry.contentBoxSize.blockSize;\n                }\n            } else {\n                // Chrome <84 implements even older version of spec.\n                width = entry.contentRect.width;\n                height = entry.contentRect.height;\n            }\n\n            // Keep the size of the canvas and rubber band canvas in sync with\n            // the canvas container.\n            if (entry.devicePixelContentBoxSize) {\n                // Chrome 84 implements new version of spec.\n                canvas.setAttribute(\n                    'width',\n                    entry.devicePixelContentBoxSize[0].inlineSize\n                );\n                canvas.setAttribute(\n                    'height',\n                    entry.devicePixelContentBoxSize[0].blockSize\n                );\n            } else {\n                canvas.setAttribute('width', width * fig.ratio);\n                canvas.setAttribute('height', height * fig.ratio);\n            }\n            /* This rescales the canvas back to display pixels, so that it\n             * appears correct on HiDPI screens. */\n            canvas.style.width = width + 'px';\n            canvas.style.height = height + 'px';\n\n            rubberband_canvas.setAttribute('width', width);\n            rubberband_canvas.setAttribute('height', height);\n\n            // And update the size in Python. We ignore the initial 0/0 size\n            // that occurs as the element is placed into the DOM, which should\n            // otherwise not happen due to the minimum size styling.\n            if (width != 0 && height != 0) {\n                fig.request_resize(width, height);\n            }\n        }\n    });\n    this.resizeObserverInstance.observe(canvas_div);\n\n    function on_mouse_event_closure(name) {\n        /* User Agent sniffing is bad, but WebKit is busted:\n         * https://bugs.webkit.org/show_bug.cgi?id=144526\n         * https://bugs.webkit.org/show_bug.cgi?id=181818\n         * The worst that happens here is that they get an extra browser\n         * selection when dragging, if this check fails to catch them.\n         */\n        var UA = navigator.userAgent;\n        var isWebKit = /AppleWebKit/.test(UA) && !/Chrome/.test(UA);\n        if(isWebKit) {\n            return function (event) {\n                /* This prevents the web browser from automatically changing to\n                 * the text insertion cursor when the button is pressed. We\n                 * want to control all of the cursor setting manually through\n                 * the 'cursor' event from matplotlib */\n                event.preventDefault()\n                return fig.mouse_event(event, name);\n            };\n        } else {\n            return function (event) {\n                return fig.mouse_event(event, name);\n            };\n        }\n    }\n\n    canvas_div.addEventListener(\n        'mousedown',\n        on_mouse_event_closure('button_press')\n    );\n    canvas_div.addEventListener(\n        'mouseup',\n        on_mouse_event_closure('button_release')\n    );\n    canvas_div.addEventListener(\n        'dblclick',\n        on_mouse_event_closure('dblclick')\n    );\n    // Throttle sequential mouse events to 1 every 20ms.\n    canvas_div.addEventListener(\n        'mousemove',\n        on_mouse_event_closure('motion_notify')\n    );\n\n    canvas_div.addEventListener(\n        'mouseenter',\n        on_mouse_event_closure('figure_enter')\n    );\n    canvas_div.addEventListener(\n        'mouseleave',\n        on_mouse_event_closure('figure_leave')\n    );\n\n    canvas_div.addEventListener('wheel', function (event) {\n        if (event.deltaY < 0) {\n            event.step = 1;\n        } else {\n            event.step = -1;\n        }\n        on_mouse_event_closure('scroll')(event);\n    });\n\n    canvas_div.appendChild(canvas);\n    canvas_div.appendChild(rubberband_canvas);\n\n    this.rubberband_context = rubberband_canvas.getContext('2d');\n    this.rubberband_context.strokeStyle = '#000000';\n\n    this._resize_canvas = function (width, height, forward) {\n        if (forward) {\n            canvas_div.style.width = width + 'px';\n            canvas_div.style.height = height + 'px';\n        }\n    };\n\n    // Disable right mouse context menu.\n    canvas_div.addEventListener('contextmenu', function (_e) {\n        event.preventDefault();\n        return false;\n    });\n\n    function set_focus() {\n        canvas.focus();\n        canvas_div.focus();\n    }\n\n    window.setTimeout(set_focus, 100);\n};\n\nmpl.figure.prototype._init_toolbar = function () {\n    var fig = this;\n\n    var toolbar = document.createElement('div');\n    toolbar.classList = 'mpl-toolbar';\n    this.root.appendChild(toolbar);\n\n    function on_click_closure(name) {\n        return function (_event) {\n            return fig.toolbar_button_onclick(name);\n        };\n    }\n\n    function on_mouseover_closure(tooltip) {\n        return function (event) {\n            if (!event.currentTarget.disabled) {\n                return fig.toolbar_button_onmouseover(tooltip);\n            }\n        };\n    }\n\n    fig.buttons = {};\n    var buttonGroup = document.createElement('div');\n    buttonGroup.classList = 'mpl-button-group';\n    for (var toolbar_ind in mpl.toolbar_items) {\n        var name = mpl.toolbar_items[toolbar_ind][0];\n        var tooltip = mpl.toolbar_items[toolbar_ind][1];\n        var image = mpl.toolbar_items[toolbar_ind][2];\n        var method_name = mpl.toolbar_items[toolbar_ind][3];\n\n        if (!name) {\n            /* Instead of a spacer, we start a new button group. */\n            if (buttonGroup.hasChildNodes()) {\n                toolbar.appendChild(buttonGroup);\n            }\n            buttonGroup = document.createElement('div');\n            buttonGroup.classList = 'mpl-button-group';\n            continue;\n        }\n\n        var button = (fig.buttons[name] = document.createElement('button'));\n        button.classList = 'mpl-widget';\n        button.setAttribute('role', 'button');\n        button.setAttribute('aria-disabled', 'false');\n        button.addEventListener('click', on_click_closure(method_name));\n        button.addEventListener('mouseover', on_mouseover_closure(tooltip));\n\n        var icon_img = document.createElement('img');\n        icon_img.src = '_images/' + image + '.png';\n        icon_img.srcset = '_images/' + image + '_large.png 2x';\n        icon_img.alt = tooltip;\n        button.appendChild(icon_img);\n\n        buttonGroup.appendChild(button);\n    }\n\n    if (buttonGroup.hasChildNodes()) {\n        toolbar.appendChild(buttonGroup);\n    }\n\n    var fmt_picker = document.createElement('select');\n    fmt_picker.classList = 'mpl-widget';\n    toolbar.appendChild(fmt_picker);\n    this.format_dropdown = fmt_picker;\n\n    for (var ind in mpl.extensions) {\n        var fmt = mpl.extensions[ind];\n        var option = document.createElement('option');\n        option.selected = fmt === mpl.default_extension;\n        option.innerHTML = fmt;\n        fmt_picker.appendChild(option);\n    }\n\n    var status_bar = document.createElement('span');\n    status_bar.classList = 'mpl-message';\n    toolbar.appendChild(status_bar);\n    this.message = status_bar;\n};\n\nmpl.figure.prototype.request_resize = function (x_pixels, y_pixels) {\n    // Request matplotlib to resize the figure. Matplotlib will then trigger a resize in the client,\n    // which will in turn request a refresh of the image.\n    this.send_message('resize', { width: x_pixels, height: y_pixels });\n};\n\nmpl.figure.prototype.send_message = function (type, properties) {\n    properties['type'] = type;\n    properties['figure_id'] = this.id;\n    this.ws.send(JSON.stringify(properties));\n};\n\nmpl.figure.prototype.send_draw_message = function () {\n    if (!this.waiting) {\n        this.waiting = true;\n        this.ws.send(JSON.stringify({ type: 'draw', figure_id: this.id }));\n    }\n};\n\nmpl.figure.prototype.handle_save = function (fig, _msg) {\n    var format_dropdown = fig.format_dropdown;\n    var format = format_dropdown.options[format_dropdown.selectedIndex].value;\n    fig.ondownload(fig, format);\n};\n\nmpl.figure.prototype.handle_resize = function (fig, msg) {\n    var size = msg['size'];\n    if (size[0] !== fig.canvas.width || size[1] !== fig.canvas.height) {\n        fig._resize_canvas(size[0], size[1], msg['forward']);\n        fig.send_message('refresh', {});\n    }\n};\n\nmpl.figure.prototype.handle_rubberband = function (fig, msg) {\n    var x0 = msg['x0'] / fig.ratio;\n    var y0 = (fig.canvas.height - msg['y0']) / fig.ratio;\n    var x1 = msg['x1'] / fig.ratio;\n    var y1 = (fig.canvas.height - msg['y1']) / fig.ratio;\n    x0 = Math.floor(x0) + 0.5;\n    y0 = Math.floor(y0) + 0.5;\n    x1 = Math.floor(x1) + 0.5;\n    y1 = Math.floor(y1) + 0.5;\n    var min_x = Math.min(x0, x1);\n    var min_y = Math.min(y0, y1);\n    var width = Math.abs(x1 - x0);\n    var height = Math.abs(y1 - y0);\n\n    fig.rubberband_context.clearRect(\n        0,\n        0,\n        fig.canvas.width / fig.ratio,\n        fig.canvas.height / fig.ratio\n    );\n\n    fig.rubberband_context.strokeRect(min_x, min_y, width, height);\n};\n\nmpl.figure.prototype.handle_figure_label = function (fig, msg) {\n    // Updates the figure title.\n    fig.header.textContent = msg['label'];\n};\n\nmpl.figure.prototype.handle_cursor = function (fig, msg) {\n    fig.canvas_div.style.cursor = msg['cursor'];\n};\n\nmpl.figure.prototype.handle_message = function (fig, msg) {\n    fig.message.textContent = msg['message'];\n};\n\nmpl.figure.prototype.handle_draw = function (fig, _msg) {\n    // Request the server to send over a new figure.\n    fig.send_draw_message();\n};\n\nmpl.figure.prototype.handle_image_mode = function (fig, msg) {\n    fig.image_mode = msg['mode'];\n};\n\nmpl.figure.prototype.handle_history_buttons = function (fig, msg) {\n    for (var key in msg) {\n        if (!(key in fig.buttons)) {\n            continue;\n        }\n        fig.buttons[key].disabled = !msg[key];\n        fig.buttons[key].setAttribute('aria-disabled', !msg[key]);\n    }\n};\n\nmpl.figure.prototype.handle_navigate_mode = function (fig, msg) {\n    if (msg['mode'] === 'PAN') {\n        fig.buttons['Pan'].classList.add('active');\n        fig.buttons['Zoom'].classList.remove('active');\n    } else if (msg['mode'] === 'ZOOM') {\n        fig.buttons['Pan'].classList.remove('active');\n        fig.buttons['Zoom'].classList.add('active');\n    } else {\n        fig.buttons['Pan'].classList.remove('active');\n        fig.buttons['Zoom'].classList.remove('active');\n    }\n};\n\nmpl.figure.prototype.updated_canvas_event = function () {\n    // Called whenever the canvas gets updated.\n    this.send_message('ack', {});\n};\n\n// A function to construct a web socket function for onmessage handling.\n// Called in the figure constructor.\nmpl.figure.prototype._make_on_message_function = function (fig) {\n    return function socket_on_message(evt) {\n        if (evt.data instanceof Blob) {\n            var img = evt.data;\n            if (img.type !== 'image/png') {\n                /* FIXME: We get \"Resource interpreted as Image but\n                 * transferred with MIME type text/plain:\" errors on\n                 * Chrome.  But how to set the MIME type?  It doesn't seem\n                 * to be part of the websocket stream */\n                img.type = 'image/png';\n            }\n\n            /* Free the memory for the previous frames */\n            if (fig.imageObj.src) {\n                (window.URL || window.webkitURL).revokeObjectURL(\n                    fig.imageObj.src\n                );\n            }\n\n            fig.imageObj.src = (window.URL || window.webkitURL).createObjectURL(\n                img\n            );\n            fig.updated_canvas_event();\n            fig.waiting = false;\n            return;\n        } else if (\n            typeof evt.data === 'string' &&\n            evt.data.slice(0, 21) === 'data:image/png;base64'\n        ) {\n            fig.imageObj.src = evt.data;\n            fig.updated_canvas_event();\n            fig.waiting = false;\n            return;\n        }\n\n        var msg = JSON.parse(evt.data);\n        var msg_type = msg['type'];\n\n        // Call the  \"handle_{type}\" callback, which takes\n        // the figure and JSON message as its only arguments.\n        try {\n            var callback = fig['handle_' + msg_type];\n        } catch (e) {\n            console.log(\n                \"No handler for the '\" + msg_type + \"' message type: \",\n                msg\n            );\n            return;\n        }\n\n        if (callback) {\n            try {\n                // console.log(\"Handling '\" + msg_type + \"' message: \", msg);\n                callback(fig, msg);\n            } catch (e) {\n                console.log(\n                    \"Exception inside the 'handler_\" + msg_type + \"' callback:\",\n                    e,\n                    e.stack,\n                    msg\n                );\n            }\n        }\n    };\n};\n\nfunction getModifiers(event) {\n    var mods = [];\n    if (event.ctrlKey) {\n        mods.push('ctrl');\n    }\n    if (event.altKey) {\n        mods.push('alt');\n    }\n    if (event.shiftKey) {\n        mods.push('shift');\n    }\n    if (event.metaKey) {\n        mods.push('meta');\n    }\n    return mods;\n}\n\n/*\n * return a copy of an object with only non-object keys\n * we need this to avoid circular references\n * https://stackoverflow.com/a/24161582/3208463\n */\nfunction simpleKeys(original) {\n    return Object.keys(original).reduce(function (obj, key) {\n        if (typeof original[key] !== 'object') {\n            obj[key] = original[key];\n        }\n        return obj;\n    }, {});\n}\n\nmpl.figure.prototype.mouse_event = function (event, name) {\n    if (name === 'button_press') {\n        this.canvas.focus();\n        this.canvas_div.focus();\n    }\n\n    // from https://stackoverflow.com/q/1114465\n    var boundingRect = this.canvas.getBoundingClientRect();\n    var x = (event.clientX - boundingRect.left) * this.ratio;\n    var y = (event.clientY - boundingRect.top) * this.ratio;\n\n    this.send_message(name, {\n        x: x,\n        y: y,\n        button: event.button,\n        step: event.step,\n        buttons: event.buttons,\n        modifiers: getModifiers(event),\n        guiEvent: simpleKeys(event),\n    });\n\n    return false;\n};\n\nmpl.figure.prototype._key_event_extra = function (_event, _name) {\n    // Handle any extra behaviour associated with a key event\n};\n\nmpl.figure.prototype.key_event = function (event, name) {\n    // Prevent repeat events\n    if (name === 'key_press') {\n        if (event.key === this._key) {\n            return;\n        } else {\n            this._key = event.key;\n        }\n    }\n    if (name === 'key_release') {\n        this._key = null;\n    }\n\n    var value = '';\n    if (event.ctrlKey && event.key !== 'Control') {\n        value += 'ctrl+';\n    }\n    else if (event.altKey && event.key !== 'Alt') {\n        value += 'alt+';\n    }\n    else if (event.shiftKey && event.key !== 'Shift') {\n        value += 'shift+';\n    }\n\n    value += 'k' + event.key;\n\n    this._key_event_extra(event, name);\n\n    this.send_message(name, { key: value, guiEvent: simpleKeys(event) });\n    return false;\n};\n\nmpl.figure.prototype.toolbar_button_onclick = function (name) {\n    if (name === 'download') {\n        this.handle_save(this, null);\n    } else {\n        this.send_message('toolbar_button', { name: name });\n    }\n};\n\nmpl.figure.prototype.toolbar_button_onmouseover = function (tooltip) {\n    this.message.textContent = tooltip;\n};\n\n///////////////// REMAINING CONTENT GENERATED BY embed_js.py /////////////////\n// prettier-ignore\nvar _JSXTOOLS_RESIZE_OBSERVER=function(A){var t,i=new WeakMap,n=new WeakMap,a=new WeakMap,r=new WeakMap,o=new Set;function s(e){if(!(this instanceof s))throw new TypeError(\"Constructor requires 'new' operator\");i.set(this,e)}function h(){throw new TypeError(\"Function is not a constructor\")}function c(e,t,i,n){e=0 in arguments?Number(arguments[0]):0,t=1 in arguments?Number(arguments[1]):0,i=2 in arguments?Number(arguments[2]):0,n=3 in arguments?Number(arguments[3]):0,this.right=(this.x=this.left=e)+(this.width=i),this.bottom=(this.y=this.top=t)+(this.height=n),Object.freeze(this)}function d(){t=requestAnimationFrame(d);var s=new WeakMap,p=new Set;o.forEach((function(t){r.get(t).forEach((function(i){var r=t instanceof window.SVGElement,o=a.get(t),d=r?0:parseFloat(o.paddingTop),f=r?0:parseFloat(o.paddingRight),l=r?0:parseFloat(o.paddingBottom),u=r?0:parseFloat(o.paddingLeft),g=r?0:parseFloat(o.borderTopWidth),m=r?0:parseFloat(o.borderRightWidth),w=r?0:parseFloat(o.borderBottomWidth),b=u+f,F=d+l,v=(r?0:parseFloat(o.borderLeftWidth))+m,W=g+w,y=r?0:t.offsetHeight-W-t.clientHeight,E=r?0:t.offsetWidth-v-t.clientWidth,R=b+v,z=F+W,M=r?t.width:parseFloat(o.width)-R-E,O=r?t.height:parseFloat(o.height)-z-y;if(n.has(t)){var k=n.get(t);if(k[0]===M&&k[1]===O)return}n.set(t,[M,O]);var S=Object.create(h.prototype);S.target=t,S.contentRect=new c(u,d,M,O),s.has(i)||(s.set(i,[]),p.add(i)),s.get(i).push(S)}))})),p.forEach((function(e){i.get(e).call(e,s.get(e),e)}))}return s.prototype.observe=function(i){if(i instanceof window.Element){r.has(i)||(r.set(i,new Set),o.add(i),a.set(i,window.getComputedStyle(i)));var n=r.get(i);n.has(this)||n.add(this),cancelAnimationFrame(t),t=requestAnimationFrame(d)}},s.prototype.unobserve=function(i){if(i instanceof window.Element&&r.has(i)){var n=r.get(i);n.has(this)&&(n.delete(this),n.size||(r.delete(i),o.delete(i))),n.size||r.delete(i),o.size||cancelAnimationFrame(t)}},A.DOMRectReadOnly=c,A.ResizeObserver=s,A.ResizeObserverEntry=h,A}; // eslint-disable-line\nmpl.toolbar_items = [[\"Home\", \"Reset original view\", \"fa fa-home\", \"home\"], [\"Back\", \"Back to previous view\", \"fa fa-arrow-left\", \"back\"], [\"Forward\", \"Forward to next view\", \"fa fa-arrow-right\", \"forward\"], [\"\", \"\", \"\", \"\"], [\"Pan\", \"Left button pans, Right button zooms\\nx/y fixes axis, CTRL fixes aspect\", \"fa fa-arrows\", \"pan\"], [\"Zoom\", \"Zoom to rectangle\\nx/y fixes axis\", \"fa fa-square-o\", \"zoom\"], [\"\", \"\", \"\", \"\"], [\"Download\", \"Download plot\", \"fa fa-floppy-o\", \"download\"]];\n\nmpl.extensions = [\"eps\", \"jpeg\", \"pgf\", \"pdf\", \"png\", \"ps\", \"raw\", \"svg\", \"tif\", \"webp\"];\n\nmpl.default_extension = \"png\";/* global mpl */\n\nvar comm_websocket_adapter = function (comm) {\n    // Create a \"websocket\"-like object which calls the given IPython comm\n    // object with the appropriate methods. Currently this is a non binary\n    // socket, so there is still some room for performance tuning.\n    var ws = {};\n\n    ws.binaryType = comm.kernel.ws.binaryType;\n    ws.readyState = comm.kernel.ws.readyState;\n    function updateReadyState(_event) {\n        if (comm.kernel.ws) {\n            ws.readyState = comm.kernel.ws.readyState;\n        } else {\n            ws.readyState = 3; // Closed state.\n        }\n    }\n    comm.kernel.ws.addEventListener('open', updateReadyState);\n    comm.kernel.ws.addEventListener('close', updateReadyState);\n    comm.kernel.ws.addEventListener('error', updateReadyState);\n\n    ws.close = function () {\n        comm.close();\n    };\n    ws.send = function (m) {\n        //console.log('sending', m);\n        comm.send(m);\n    };\n    // Register the callback with on_msg.\n    comm.on_msg(function (msg) {\n        //console.log('receiving', msg['content']['data'], msg);\n        var data = msg['content']['data'];\n        if (data['blob'] !== undefined) {\n            data = {\n                data: new Blob(msg['buffers'], { type: data['blob'] }),\n            };\n        }\n        // Pass the mpl event to the overridden (by mpl) onmessage function.\n        ws.onmessage(data);\n    });\n    return ws;\n};\n\nmpl.mpl_figure_comm = function (comm, msg) {\n    // This is the function which gets called when the mpl process\n    // starts-up an IPython Comm through the \"matplotlib\" channel.\n\n    var id = msg.content.data.id;\n    // Get hold of the div created by the display call when the Comm\n    // socket was opened in Python.\n    var element = document.getElementById(id);\n    var ws_proxy = comm_websocket_adapter(comm);\n\n    function ondownload(figure, _format) {\n        window.open(figure.canvas.toDataURL());\n    }\n\n    var fig = new mpl.figure(id, ws_proxy, ondownload, element);\n\n    // Call onopen now - mpl needs it, as it is assuming we've passed it a real\n    // web socket which is closed, not our websocket->open comm proxy.\n    ws_proxy.onopen();\n\n    fig.parent_element = element;\n    fig.cell_info = mpl.find_output_cell(\"<div id='\" + id + \"'></div>\");\n    if (!fig.cell_info) {\n        console.error('Failed to find cell for figure', id, fig);\n        return;\n    }\n    fig.cell_info[0].output_area.element.on(\n        'cleared',\n        { fig: fig },\n        fig._remove_fig_handler\n    );\n};\n\nmpl.figure.prototype.handle_close = function (fig, msg) {\n    var width = fig.canvas.width / fig.ratio;\n    fig.cell_info[0].output_area.element.off(\n        'cleared',\n        fig._remove_fig_handler\n    );\n    fig.resizeObserverInstance.unobserve(fig.canvas_div);\n\n    // Update the output cell to use the data from the current canvas.\n    fig.push_to_output();\n    var dataURL = fig.canvas.toDataURL();\n    // Re-enable the keyboard manager in IPython - without this line, in FF,\n    // the notebook keyboard shortcuts fail.\n    IPython.keyboard_manager.enable();\n    fig.parent_element.innerHTML =\n        '<img src=\"' + dataURL + '\" width=\"' + width + '\">';\n    fig.close_ws(fig, msg);\n};\n\nmpl.figure.prototype.close_ws = function (fig, msg) {\n    fig.send_message('closing', msg);\n    // fig.ws.close()\n};\n\nmpl.figure.prototype.push_to_output = function (_remove_interactive) {\n    // Turn the data on the canvas into data in the output cell.\n    var width = this.canvas.width / this.ratio;\n    var dataURL = this.canvas.toDataURL();\n    this.cell_info[1]['text/html'] =\n        '<img src=\"' + dataURL + '\" width=\"' + width + '\">';\n};\n\nmpl.figure.prototype.updated_canvas_event = function () {\n    // Tell IPython that the notebook contents must change.\n    IPython.notebook.set_dirty(true);\n    this.send_message('ack', {});\n    var fig = this;\n    // Wait a second, then push the new image to the DOM so\n    // that it is saved nicely (might be nice to debounce this).\n    setTimeout(function () {\n        fig.push_to_output();\n    }, 1000);\n};\n\nmpl.figure.prototype._init_toolbar = function () {\n    var fig = this;\n\n    var toolbar = document.createElement('div');\n    toolbar.classList = 'btn-toolbar';\n    this.root.appendChild(toolbar);\n\n    function on_click_closure(name) {\n        return function (_event) {\n            return fig.toolbar_button_onclick(name);\n        };\n    }\n\n    function on_mouseover_closure(tooltip) {\n        return function (event) {\n            if (!event.currentTarget.disabled) {\n                return fig.toolbar_button_onmouseover(tooltip);\n            }\n        };\n    }\n\n    fig.buttons = {};\n    var buttonGroup = document.createElement('div');\n    buttonGroup.classList = 'btn-group';\n    var button;\n    for (var toolbar_ind in mpl.toolbar_items) {\n        var name = mpl.toolbar_items[toolbar_ind][0];\n        var tooltip = mpl.toolbar_items[toolbar_ind][1];\n        var image = mpl.toolbar_items[toolbar_ind][2];\n        var method_name = mpl.toolbar_items[toolbar_ind][3];\n\n        if (!name) {\n            /* Instead of a spacer, we start a new button group. */\n            if (buttonGroup.hasChildNodes()) {\n                toolbar.appendChild(buttonGroup);\n            }\n            buttonGroup = document.createElement('div');\n            buttonGroup.classList = 'btn-group';\n            continue;\n        }\n\n        button = fig.buttons[name] = document.createElement('button');\n        button.classList = 'btn btn-default';\n        button.href = '#';\n        button.title = name;\n        button.innerHTML = '<i class=\"fa ' + image + ' fa-lg\"></i>';\n        button.addEventListener('click', on_click_closure(method_name));\n        button.addEventListener('mouseover', on_mouseover_closure(tooltip));\n        buttonGroup.appendChild(button);\n    }\n\n    if (buttonGroup.hasChildNodes()) {\n        toolbar.appendChild(buttonGroup);\n    }\n\n    // Add the status bar.\n    var status_bar = document.createElement('span');\n    status_bar.classList = 'mpl-message pull-right';\n    toolbar.appendChild(status_bar);\n    this.message = status_bar;\n\n    // Add the close button to the window.\n    var buttongrp = document.createElement('div');\n    buttongrp.classList = 'btn-group inline pull-right';\n    button = document.createElement('button');\n    button.classList = 'btn btn-mini btn-primary';\n    button.href = '#';\n    button.title = 'Stop Interaction';\n    button.innerHTML = '<i class=\"fa fa-power-off icon-remove icon-large\"></i>';\n    button.addEventListener('click', function (_evt) {\n        fig.handle_close(fig, {});\n    });\n    button.addEventListener(\n        'mouseover',\n        on_mouseover_closure('Stop Interaction')\n    );\n    buttongrp.appendChild(button);\n    var titlebar = this.root.querySelector('.ui-dialog-titlebar');\n    titlebar.insertBefore(buttongrp, titlebar.firstChild);\n};\n\nmpl.figure.prototype._remove_fig_handler = function (event) {\n    var fig = event.data.fig;\n    if (event.target !== this) {\n        // Ignore bubbled events from children.\n        return;\n    }\n    fig.close_ws(fig, {});\n};\n\nmpl.figure.prototype._root_extra_style = function (el) {\n    el.style.boxSizing = 'content-box'; // override notebook setting of border-box.\n};\n\nmpl.figure.prototype._canvas_extra_style = function (el) {\n    // this is important to make the div 'focusable\n    el.setAttribute('tabindex', 0);\n    // reach out to IPython and tell the keyboard manager to turn it's self\n    // off when our div gets focus\n\n    // location in version 3\n    if (IPython.notebook.keyboard_manager) {\n        IPython.notebook.keyboard_manager.register_events(el);\n    } else {\n        // location in version 2\n        IPython.keyboard_manager.register_events(el);\n    }\n};\n\nmpl.figure.prototype._key_event_extra = function (event, _name) {\n    // Check for shift+enter\n    if (event.shiftKey && event.which === 13) {\n        this.canvas_div.blur();\n        // select the cell after this one\n        var index = IPython.notebook.find_cell_index(this.cell_info[0]);\n        IPython.notebook.select(index + 1);\n    }\n};\n\nmpl.figure.prototype.handle_save = function (fig, _msg) {\n    fig.ondownload(fig, null);\n};\n\nmpl.find_output_cell = function (html_output) {\n    // Return the cell and output element which can be found *uniquely* in the notebook.\n    // Note - this is a bit hacky, but it is done because the \"notebook_saving.Notebook\"\n    // IPython event is triggered only after the cells have been serialised, which for\n    // our purposes (turning an active figure into a static one), is too late.\n    var cells = IPython.notebook.get_cells();\n    var ncells = cells.length;\n    for (var i = 0; i < ncells; i++) {\n        var cell = cells[i];\n        if (cell.cell_type === 'code') {\n            for (var j = 0; j < cell.output_area.outputs.length; j++) {\n                var data = cell.output_area.outputs[j];\n                if (data.data) {\n                    // IPython >= 3 moved mimebundle to data attribute of output\n                    data = data.data;\n                }\n                if (data['text/html'] === html_output) {\n                    return [cell, data, j];\n                }\n            }\n        }\n    }\n};\n\n// Register the function which deals with the matplotlib target/channel.\n// The kernel may be null if the page has been refreshed.\nif (IPython.notebook.kernel !== null) {\n    IPython.notebook.kernel.comm_manager.register_target(\n        'matplotlib',\n        mpl.mpl_figure_comm\n    );\n}\n"
     },
     "metadata": {},
     "output_type": "display_data"
    },
    {
     "data": {
      "text/plain": [
       "<IPython.core.display.HTML object>"
      ],
      "text/html": [
       "<div id='dca60543-98c3-4874-83df-455a136a0a08'></div>"
      ]
     },
     "metadata": {},
     "output_type": "display_data"
    }
   ],
   "execution_count": 9
  },
  {
   "metadata": {
    "ExecuteTime": {
     "end_time": "2025-04-26T10:48:14.836032Z",
     "start_time": "2025-04-26T10:48:14.663157Z"
    }
   },
   "cell_type": "code",
   "source": "etal1",
   "id": "acb9eb9e700fcb2",
   "outputs": [
    {
     "ename": "NameError",
     "evalue": "name 'etal1' is not defined",
     "output_type": "error",
     "traceback": [
      "\u001B[1;31m---------------------------------------------------------------------------\u001B[0m",
      "\u001B[1;31mNameError\u001B[0m                                 Traceback (most recent call last)",
      "Cell \u001B[1;32mIn[1], line 1\u001B[0m\n\u001B[1;32m----> 1\u001B[0m \u001B[43metal1\u001B[49m\n",
      "\u001B[1;31mNameError\u001B[0m: name 'etal1' is not defined"
     ]
    }
   ],
   "execution_count": 1
  },
  {
   "metadata": {
    "ExecuteTime": {
     "end_time": "2025-04-26T10:46:29.626428Z",
     "start_time": "2025-04-26T10:46:29.615793Z"
    }
   },
   "cell_type": "code",
   "source": [
    "dataset_path = \"../../Data/OscData2.csv\"\n",
    "save_path = \"../../Data/OscData2\"\n",
    "\n",
    "period_size = 32\n",
    "window_period_cnt = 8\n",
    "wsz = period_size * window_period_cnt\n",
    "etal_sim_th = -1  # 0.5  # max value of standard deviation with etalon, recommended to leave only abnormal events: 0.5\n",
    "\n",
    "wcnt = 3  # number of spectrum recordings in generated data\n",
    "capwsz = wsz  # size of window of recordings\n",
    "wshift = capwsz // 2  # shift between recordings\n",
    "unmatched_channels_th = 3  # threshold which states the least number of unmatched channels for measure to be considered abnormal\n",
    "capture_step = 7  # step between recordings\n",
    "adjust_ampl_factor = 2  # features from adjust_ampl_feats have adaptive amplitude scale from 1/fac to fac\n",
    "\n",
    "\n",
    "\n",
    "viewsz = capwsz + wshift * (wcnt - 1)\n",
    "lpadding = (viewsz - wsz)\n",
    "feats = [\"UA BB\", \"UB BB\", \"UC BB\"]  # [\"IA\", \"IC\", \"UA BB\", \"UB BB\", \"UC BB\"]  # , \"UN BB\"\n",
    "adjust_ampl_feats = {\"IA\", \"IC\"}  # \"UN BB\"\n",
    "x_fft = fft.rfftfreq(wsz, 1.0 / period_size)\n",
    "specsz = len(x_fft)\n",
    "etal_weight = np.ones(specsz)\n",
    "window_func = np.hanning(wsz)\n",
    "window_func /= np.sqrt(np.average(window_func ** 2))\n",
    "cap_window_func = np.hanning(capwsz)\n",
    "\n",
    "channel_ampls = defaultdict(lambda: 1, {\n",
    "    \"IA\": 1,\n",
    "    \"IB\": 1,\n",
    "    \"IC\": 1,\n",
    "    \"UA BB\": 84.5,\n",
    "    \"UB BB\": 84.5,\n",
    "    \"UC BB\": 84.5,\n",
    "    \"UN BB\": 1,\n",
    "})\n",
    "\n",
    "op_names = ['opr_swch', 'abnorm_evnt', 'emerg_evnt', 'normal']\n"
   ],
   "id": "d01cdf11d1aa7433",
   "outputs": [],
   "execution_count": 18
  },
  {
   "metadata": {
    "ExecuteTime": {
     "end_time": "2025-04-26T10:46:29.874492Z",
     "start_time": "2025-04-26T10:46:29.861475Z"
    }
   },
   "cell_type": "code",
   "source": [
    "def match_etal(lpos, data_track, wsz=wsz, window_func=window_func):\n",
    "    seq_trim = data_track[lpos:lpos + wsz]\n",
    "    nomatch = []\n",
    "\n",
    "    for feat in feats:\n",
    "        seq = seq_trim[feat].values.copy()\n",
    "        ampl = channel_ampls[feat]\n",
    "\n",
    "        if feat in adjust_ampl_feats:\n",
    "            sig_ampl = np.average(np.abs(seq)) * np.pi / 2\n",
    "            dif = sig_ampl / ampl\n",
    "            ampl *= np.clip(dif, 1 / adjust_ampl_factor, adjust_ampl_factor)\n",
    "\n",
    "        seq /= ampl\n",
    "        spec = norm_fft(seq, window_func)\n",
    "\n",
    "        sim0 = energy_diff(etal0, spec, weights=etal_weight)\n",
    "        sim1 = energy_diff(etal1, spec, weights=etal_weight)\n",
    "\n",
    "        if min(sim0, sim1) > etal_sim_th:\n",
    "            nomatch.append(feat)\n",
    "    return nomatch\n",
    "\n",
    "\n",
    "def gen_case(starttime, data_track, wcnt=wcnt, window_func=cap_window_func, capwsz=capwsz, wshift=wshift):\n",
    "    measures = []\n",
    "\n",
    "    for lpos in range(starttime, starttime + wshift * wcnt, wshift):\n",
    "        rpos = lpos + capwsz\n",
    "        if lpos < 0 or rpos >= len(data):\n",
    "            raise IndexError(\"Wrong time interval for case generation\")\n",
    "\n",
    "        seq_trim = data_track[lpos:lpos + capwsz]\n",
    "        spectrums = []\n",
    "\n",
    "        for feat in feats:\n",
    "            seq = seq_trim[feat].values.copy()\n",
    "            ampl = channel_ampls[feat]\n",
    "            seq /= ampl\n",
    "            spec = norm_fft(seq, window_func)\n",
    "            spectrums.append(spec)\n",
    "\n",
    "        measures.append(spectrums)\n",
    "    return np.array(measures)"
   ],
   "id": "a6a747500945ba26",
   "outputs": [],
   "execution_count": 19
  },
  {
   "metadata": {
    "ExecuteTime": {
     "end_time": "2025-04-26T10:46:30.815995Z",
     "start_time": "2025-04-26T10:46:30.805970Z"
    }
   },
   "cell_type": "code",
   "source": [
    "import pandas as pd\n",
    "def process_file(filename: str):\n",
    "    data_track = data[data[\"file_name\"] == filename]\n",
    "\n",
    "    wtf = gen_case(0, data_track=data_track, wcnt=wcnt, window_func=cap_window_func, capwsz=capwsz,\n",
    "                            wshift=wshift)\n",
    "    print(wtf.shape)\n",
    "    for i in range(wtf.shape[1]):\n",
    "        plt.plot(wtf[0, i])\n",
    "    plt.show()\n",
    "    exit(0)"
   ],
   "id": "be9d2e73325aabf",
   "outputs": [],
   "execution_count": 20
  },
  {
   "metadata": {
    "ExecuteTime": {
     "end_time": "2025-04-26T10:46:53.013214Z",
     "start_time": "2025-04-26T10:46:52.847114Z"
    }
   },
   "cell_type": "code",
   "source": [
    "data = pd.read_csv(dataset_path)\n",
    "data[op_names] = data[op_names].fillna(value=0)\n",
    "# data.fillna({\"IB\": 0}, inplace=True)\n",
    "data.dropna(axis=1, how='any', inplace=True)\n",
    "files = np.unique(data[\"file_name\"].values)\n",
    "\n",
    "X, y = np.ndarray((0, wcnt, len(feats), (capwsz // 2) + 1)), np.array([])\n",
    "\n",
    "for filename in tqdm(files):\n",
    "    # filename=\"b629f3bb07ef79f5845c27daa0a83425_Bus 2 _event N1\"\n",
    "    # print(f\"Working with file {filename}\")\n",
    "    tX, ty = process_file(filename)\n",
    "    break"
   ],
   "id": "7f198e705ec74fcd",
   "outputs": [
    {
     "name": "stderr",
     "output_type": "stream",
     "text": [
      "  0%|          | 0/66 [00:00<?, ?it/s]"
     ]
    },
    {
     "name": "stdout",
     "output_type": "stream",
     "text": [
      "(3, 3, 129)\n"
     ]
    },
    {
     "data": {
      "text/plain": [
       "<Figure size 640x480 with 1 Axes>"
      ],
      "image/png": "[encoded data removed]"
     },
     "metadata": {},
     "output_type": "display_data"
    },
    {
     "name": "stderr",
     "output_type": "stream",
     "text": [
      "  0%|          | 0/66 [00:00<?, ?it/s]\n"
     ]
    },
    {
     "ename": "TypeError",
     "evalue": "cannot unpack non-iterable NoneType object",
     "output_type": "error",
     "traceback": [
      "\u001B[1;31m---------------------------------------------------------------------------\u001B[0m",
      "\u001B[1;31mTypeError\u001B[0m                                 Traceback (most recent call last)",
      "Cell \u001B[1;32mIn[23], line 12\u001B[0m\n\u001B[0;32m      7\u001B[0m X, y \u001B[38;5;241m=\u001B[39m np\u001B[38;5;241m.\u001B[39mndarray((\u001B[38;5;241m0\u001B[39m, wcnt, \u001B[38;5;28mlen\u001B[39m(feats), (capwsz \u001B[38;5;241m/\u001B[39m\u001B[38;5;241m/\u001B[39m \u001B[38;5;241m2\u001B[39m) \u001B[38;5;241m+\u001B[39m \u001B[38;5;241m1\u001B[39m)), np\u001B[38;5;241m.\u001B[39marray([])\n\u001B[0;32m      9\u001B[0m \u001B[38;5;28;01mfor\u001B[39;00m filename \u001B[38;5;129;01min\u001B[39;00m tqdm(files):\n\u001B[0;32m     10\u001B[0m     \u001B[38;5;66;03m# filename=\"b629f3bb07ef79f5845c27daa0a83425_Bus 2 _event N1\"\u001B[39;00m\n\u001B[0;32m     11\u001B[0m     \u001B[38;5;66;03m# print(f\"Working with file {filename}\")\u001B[39;00m\n\u001B[1;32m---> 12\u001B[0m     tX, ty \u001B[38;5;241m=\u001B[39m process_file(filename)\n\u001B[0;32m     13\u001B[0m     \u001B[38;5;28;01mbreak\u001B[39;00m\n",
      "\u001B[1;31mTypeError\u001B[0m: cannot unpack non-iterable NoneType object"
     ]
    }
   ],
   "execution_count": 23
  },
  {
   "metadata": {
    "ExecuteTime": {
     "end_time": "2025-04-26T10:38:31.810100Z",
     "start_time": "2025-04-26T10:38:31.795580Z"
    }
   },
   "cell_type": "code",
   "source": [
    "print(X.shape)\n",
    "print(y.shape)\n",
    "print(y)"
   ],
   "id": "1fe95ce7fa4d6ffe",
   "outputs": [
    {
     "name": "stdout",
     "output_type": "stream",
     "text": [
      "(0,)\n",
      "(0,)\n",
      "[]\n"
     ]
    }
   ],
   "execution_count": 15
  },
  {
   "metadata": {
    "ExecuteTime": {
     "end_time": "2025-04-26T10:46:06.870576Z",
     "start_time": "2025-04-26T10:46:06.801443Z"
    }
   },
   "cell_type": "code",
   "source": [
    "%matplotlib inline\n",
    "\n",
    "lpos = 420\n",
    "seq = X[lpos:lpos + wsz].copy()\n",
    "ampl = channel_ampls[gr_feat]\n",
    "seq /= ampl\n",
    "seq_wind = seq * window_func\n",
    "spec = norm_fft(seq, window_func)\n",
    "\n",
    "plt.figure(figsize=(12, 8))\n",
    "plt.xlim((0, 20))\n",
    "plt.ylim((0.01, 1))\n",
    "plt.grid(which='both')\n",
    "plt.yscale('log')\n",
    "plt.plot(spec, label=\"Spectrum\")\n",
    "plt.plot(etal1, label=\"Etalon\")\n",
    "plt.plot(spec - etal1, label=\"Dif\")\n",
    "plt.plot(np.abs((spec ** 2) - (etal1 ** 2)), label=\"2 Dif\")\n",
    "plt.legend()\n",
    "plt.show()"
   ],
   "id": "c1609ecc41a5639e",
   "outputs": [
    {
     "ename": "NameError",
     "evalue": "name 'X' is not defined",
     "output_type": "error",
     "traceback": [
      "\u001B[1;31m---------------------------------------------------------------------------\u001B[0m",
      "\u001B[1;31mNameError\u001B[0m                                 Traceback (most recent call last)",
      "Cell \u001B[1;32mIn[13], line 4\u001B[0m\n\u001B[0;32m      1\u001B[0m get_ipython()\u001B[38;5;241m.\u001B[39mrun_line_magic(\u001B[38;5;124m'\u001B[39m\u001B[38;5;124mmatplotlib\u001B[39m\u001B[38;5;124m'\u001B[39m, \u001B[38;5;124m'\u001B[39m\u001B[38;5;124minline\u001B[39m\u001B[38;5;124m'\u001B[39m)\n\u001B[0;32m      3\u001B[0m lpos \u001B[38;5;241m=\u001B[39m \u001B[38;5;241m420\u001B[39m\n\u001B[1;32m----> 4\u001B[0m seq \u001B[38;5;241m=\u001B[39m \u001B[43mX\u001B[49m[lpos:lpos \u001B[38;5;241m+\u001B[39m wsz]\u001B[38;5;241m.\u001B[39mcopy()\n\u001B[0;32m      5\u001B[0m ampl \u001B[38;5;241m=\u001B[39m channel_ampls[gr_feat]\n\u001B[0;32m      6\u001B[0m seq \u001B[38;5;241m/\u001B[39m\u001B[38;5;241m=\u001B[39m ampl\n",
      "\u001B[1;31mNameError\u001B[0m: name 'X' is not defined"
     ]
    }
   ],
   "execution_count": 13
  },
  {
   "metadata": {
    "ExecuteTime": {
     "end_time": "2025-04-26T10:38:32.107141700Z",
     "start_time": "2025-04-25T14:40:06.588290Z"
    }
   },
   "cell_type": "code",
   "source": [
    "lpos = 2200\n",
    "seq = X[lpos:lpos + wsz]\n",
    "ampl = channel_ampls[gr_feat]\n",
    "feat = \"UN BB\"\n",
    "if feat in adjust_ampl_feats:\n",
    "    sig_ampl = np.average(np.abs(seq)) * np.pi / 2\n",
    "    dif = sig_ampl / ampl\n",
    "    # ampl *= np.clip(dif, 1 / adjust_ampl_factor, adjust_ampl_factor)\n",
    "    p1_et.set_xdata(range(lpos, lpos + wsz))\n",
    "    p1_et.set_ydata(np.cos(np.linspace(0, 2 * np.pi * wsz / period_size, wsz, endpoint=False) * sig_ampl / ampl))\n",
    "\n",
    "seq /= ampl\n",
    "seq_wind = seq * window_func\n",
    "spec = norm_fft(seq, window_func)\n",
    "print(spec)"
   ],
   "id": "552d45c739edf199",
   "outputs": [
    {
     "ename": "TypeError",
     "evalue": "unsupported operand type(s) for /=: 'list' and 'float'",
     "output_type": "error",
     "traceback": [
      "\u001B[1;31m---------------------------------------------------------------------------\u001B[0m",
      "\u001B[1;31mTypeError\u001B[0m                                 Traceback (most recent call last)",
      "Cell \u001B[1;32mIn[34], line 12\u001B[0m\n\u001B[0;32m      9\u001B[0m     p1_et\u001B[38;5;241m.\u001B[39mset_xdata(\u001B[38;5;28mrange\u001B[39m(lpos, lpos \u001B[38;5;241m+\u001B[39m wsz))\n\u001B[0;32m     10\u001B[0m     p1_et\u001B[38;5;241m.\u001B[39mset_ydata(np\u001B[38;5;241m.\u001B[39mcos(np\u001B[38;5;241m.\u001B[39mlinspace(\u001B[38;5;241m0\u001B[39m, \u001B[38;5;241m2\u001B[39m \u001B[38;5;241m*\u001B[39m np\u001B[38;5;241m.\u001B[39mpi \u001B[38;5;241m*\u001B[39m wsz \u001B[38;5;241m/\u001B[39m period_size, wsz, endpoint\u001B[38;5;241m=\u001B[39m\u001B[38;5;28;01mFalse\u001B[39;00m) \u001B[38;5;241m*\u001B[39m sig_ampl \u001B[38;5;241m/\u001B[39m ampl))\n\u001B[1;32m---> 12\u001B[0m seq \u001B[38;5;241m/\u001B[39m\u001B[38;5;241m=\u001B[39m ampl\n\u001B[0;32m     13\u001B[0m seq_wind \u001B[38;5;241m=\u001B[39m seq \u001B[38;5;241m*\u001B[39m window_func\n\u001B[0;32m     14\u001B[0m spec \u001B[38;5;241m=\u001B[39m norm_fft(seq, window_func)\n",
      "\u001B[1;31mTypeError\u001B[0m: unsupported operand type(s) for /=: 'list' and 'float'"
     ]
    }
   ],
   "execution_count": 34
  },
  {
   "metadata": {
    "ExecuteTime": {
     "end_time": "2025-04-26T10:38:32.107141700Z",
     "start_time": "2025-04-25T14:40:06.799682Z"
    }
   },
   "cell_type": "code",
   "source": [
    "lsim = lpos + wsz - max(len(sim0), wsz)\n",
    "ax4.set_xdata(range(lsim, lpos + wsz))\n",
    "ax4.set_ydata(sim0[-max(len(sim0), wsz):])"
   ],
   "id": "67c82a432f6e7cda",
   "outputs": [
    {
     "ename": "AttributeError",
     "evalue": "'Axes' object has no attribute 'set_xdata'",
     "output_type": "error",
     "traceback": [
      "\u001B[1;31m---------------------------------------------------------------------------\u001B[0m",
      "\u001B[1;31mAttributeError\u001B[0m                            Traceback (most recent call last)",
      "Cell \u001B[1;32mIn[35], line 2\u001B[0m\n\u001B[0;32m      1\u001B[0m lsim \u001B[38;5;241m=\u001B[39m lpos \u001B[38;5;241m+\u001B[39m wsz \u001B[38;5;241m-\u001B[39m \u001B[38;5;28mmax\u001B[39m(\u001B[38;5;28mlen\u001B[39m(sim0), wsz)\n\u001B[1;32m----> 2\u001B[0m \u001B[43max4\u001B[49m\u001B[38;5;241;43m.\u001B[39;49m\u001B[43mset_xdata\u001B[49m(\u001B[38;5;28mrange\u001B[39m(lsim, lpos \u001B[38;5;241m+\u001B[39m wsz))\n\u001B[0;32m      3\u001B[0m ax4\u001B[38;5;241m.\u001B[39mset_ydata(sim0[\u001B[38;5;241m-\u001B[39m\u001B[38;5;28mmax\u001B[39m(\u001B[38;5;28mlen\u001B[39m(sim0), wsz):])\n",
      "\u001B[1;31mAttributeError\u001B[0m: 'Axes' object has no attribute 'set_xdata'"
     ]
    }
   ],
   "execution_count": 35
  },
  {
   "metadata": {
    "ExecuteTime": {
     "end_time": "2025-04-26T10:38:32.108143300Z",
     "start_time": "2025-04-25T16:10:32.434804Z"
    }
   },
   "cell_type": "code",
   "source": [
    "lpos = 250\n",
    "rpos = lpos + 128\n",
    "seq_trim = data[lpos:lpos + wsz]\n",
    "events = data[op_names[:3]][lpos:rpos]\n",
    "\n",
    "print(np.any(events))\n",
    "print(events.shape)\n",
    "print(events)"
   ],
   "id": "31b538eeeb218598",
   "outputs": [
    {
     "name": "stdout",
     "output_type": "stream",
     "text": [
      "True\n",
      "(128, 3)\n",
      "       opr_swch  abnorm_evnt  emerg_evnt\n",
      "48698       0.0          0.0         0.0\n",
      "48699       0.0          0.0         0.0\n",
      "48700       0.0          0.0         0.0\n",
      "48701       0.0          0.0         0.0\n",
      "48702       0.0          0.0         0.0\n",
      "...         ...          ...         ...\n",
      "48821       0.0          0.0         0.0\n",
      "48822       0.0          0.0         0.0\n",
      "48823       0.0          0.0         0.0\n",
      "48824       0.0          0.0         0.0\n",
      "48825       0.0          0.0         0.0\n",
      "\n",
      "[128 rows x 3 columns]\n"
     ]
    }
   ],
   "execution_count": 153
  },
  {
   "metadata": {
    "ExecuteTime": {
     "end_time": "2025-04-26T10:38:32.108143300Z",
     "start_time": "2025-04-25T16:12:27.966464Z"
    }
   },
   "cell_type": "code",
   "source": "events.mean().mean()",
   "id": "74dc64ea43fc2209",
   "outputs": [
    {
     "data": {
      "text/plain": [
       "np.float64(0.13541666666666666)"
      ]
     },
     "execution_count": 161,
     "metadata": {},
     "output_type": "execute_result"
    }
   ],
   "execution_count": 161
  },
  {
   "metadata": {},
   "cell_type": "code",
   "outputs": [],
   "execution_count": null,
   "source": "",
   "id": "335a80c324f82b1a"
  }
 ],
 "metadata": {
  "kernelspec": {
   "display_name": "Python 3",
   "language": "python",
   "name": "python3"
  },
  "language_info": {
   "codemirror_mode": {
    "name": "ipython",
    "version": 2
   },
   "file_extension": ".py",
   "mimetype": "text/x-python",
   "name": "python",
   "nbconvert_exporter": "python",
   "pygments_lexer": "ipython2",
   "version": "2.7.6"
  }
 },
 "nbformat": 4,
 "nbformat_minor": 5
}
