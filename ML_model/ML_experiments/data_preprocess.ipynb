{
 "cells": [
  {
   "cell_type": "code",
   "id": "initial_id",
   "metadata": {
    "collapsed": true,
    "ExecuteTime": {
     "end_time": "2025-04-26T10:50:41.503196Z",
     "start_time": "2025-04-26T10:50:40.536106Z"
    }
   },
   "source": [
    "import math\n",
    "import time\n",
    "\n",
    "from IPython.core.pylabtools import figsize\n",
    "from matplotlib import pyplot as plt\n",
    "from matplotlib.animation import FuncAnimation\n",
    "import numpy as np\n",
    "import pandas as pd\n",
    "from numpy.ma.extras import average\n",
    "\n",
    "from scipy import fft\n",
    "from tensorboard.compat.tensorflow_stub.errors import OutOfRangeError\n",
    "from tqdm import tqdm\n",
    "from collections import defaultdict\n",
    "\n",
    "#%matplotlib notebook\n",
    "#%matplotlib widget\n",
    "%matplotlib ipympl\n",
    "#%matplotlib inline\n"
   ],
   "outputs": [],
   "execution_count": 1
  },
  {
   "metadata": {
    "ExecuteTime": {
     "end_time": "2025-04-26T10:50:41.534105Z",
     "start_time": "2025-04-26T10:50:41.516570Z"
    }
   },
   "cell_type": "code",
   "source": [
    "dataset_path = \"../../Data/OscData2.csv\"\n",
    "#dataset_path = \"../../Data/datset_v1.csv\"\n",
    "period_size = 32\n",
    "window_period_cnt = 4\n",
    "wsz = period_size * window_period_cnt\n",
    "data_channel = 3\n",
    "etal_sim_th = 0.5  # max value of standard deviation with etalon\n",
    "file_prefix = \"\"\n",
    "#file_prefix = \"b629f3bb07ef79f5845c27daa0a83425\"\n",
    "#file_prefix = \"0a3cba1c0d3a410500489925e5282827\"\n",
    "\n",
    "feats = [\"IA\", \"IC\", \"UA BB\", \"UB BB\", \"UC BB\"]  #, \"UN BB\"\n",
    "#feats = [\"UA BB\", \"UB BB\", \"UC BB\", \"UN BB\"]\n",
    "\n",
    "adjust_ampl_feats = {\"IA\", \"IB\", \"IC\"}  # \"UN BB\"\n",
    "adjust_ampl_factor = 2\n"
   ],
   "id": "462dcc8c3a92004a",
   "outputs": [],
   "execution_count": 2
  },
  {
   "metadata": {
    "ExecuteTime": {
     "end_time": "2025-04-26T10:50:41.720059Z",
     "start_time": "2025-04-26T10:50:41.705051Z"
    }
   },
   "cell_type": "code",
   "source": [
    "\n",
    "x_fft = fft.rfftfreq(wsz, 1.0 / period_size)\n",
    "fftsz = len(x_fft)\n",
    "etal_weight = np.ones(fftsz)\n",
    "\n",
    "window_func = np.hanning(wsz)\n",
    "window_func /= np.sqrt(np.average(window_func ** 2))\n",
    "\n",
    "#device = torch.device('cuda' if torch.cuda.is_available() else 'cpu')"
   ],
   "id": "d0bc17a41b76347",
   "outputs": [],
   "execution_count": 3
  },
  {
   "metadata": {
    "ExecuteTime": {
     "end_time": "2025-04-26T10:50:42.452455Z",
     "start_time": "2025-04-26T10:50:42.345276Z"
    }
   },
   "cell_type": "code",
   "source": [
    "data = pd.read_csv(dataset_path)\n",
    "op_names = ['opr_swch', 'abnorm_evnt', 'emerg_evnt', 'normal']\n",
    "\n",
    "data[op_names] = data[op_names].fillna(value=0)\n",
    "data.fillna({\"IB\": 0}, inplace=True)\n",
    "data.dropna(axis=1, how='any', inplace=True)\n",
    "\n",
    "files = np.unique(data[\"file_name\"].values)\n",
    "matching_files = [x for x in files if x.startswith(file_prefix)]\n",
    "\n",
    "print(f\"Found {len(matching_files)} matching sequences\")\n",
    "\n",
    "target_file = matching_files[1]\n",
    "data = data[data[\"file_name\"] == target_file]\n",
    "\n",
    "print(f\"Working with file {target_file}\")\n"
   ],
   "id": "7812c0c0a0c05f48",
   "outputs": [
    {
     "name": "stdout",
     "output_type": "stream",
     "text": [
      "Found 66 matching sequences\n",
      "Working with file 031064763a753380d14b0526a0208858_Bus 2 _event N1\n"
     ]
    }
   ],
   "execution_count": 4
  },
  {
   "metadata": {
    "ExecuteTime": {
     "end_time": "2025-04-26T10:50:42.843304Z",
     "start_time": "2025-04-26T10:50:42.825791Z"
    }
   },
   "cell_type": "code",
   "source": "len(data)",
   "id": "45ac99e4fb9ae3a1",
   "outputs": [
    {
     "data": {
      "text/plain": [
       "667"
      ]
     },
     "execution_count": 5,
     "metadata": {},
     "output_type": "execute_result"
    }
   ],
   "execution_count": 5
  },
  {
   "metadata": {
    "ExecuteTime": {
     "end_time": "2025-04-26T10:50:43.249791Z",
     "start_time": "2025-04-26T10:50:43.241432Z"
    }
   },
   "cell_type": "code",
   "source": [
    "channel_ampls = defaultdict(lambda: 1, {\n",
    "    \"IA\": 1,\n",
    "    \"IB\": 1,\n",
    "    \"IC\": 1,\n",
    "    \"UA BB\": 84.5,\n",
    "    \"UB BB\": 84.5,\n",
    "    \"UC BB\": 84.5,\n",
    "    \"UN BB\": 1,\n",
    "})\n",
    "\n",
    "gr_feat = data.columns[data_channel]\n",
    "\n",
    "data_feat = data[gr_feat].values\n",
    "\n",
    "\n"
   ],
   "id": "a29181abe28a7328",
   "outputs": [],
   "execution_count": 6
  },
  {
   "metadata": {
    "ExecuteTime": {
     "end_time": "2025-04-26T10:50:43.736700Z",
     "start_time": "2025-04-26T10:50:43.724184Z"
    }
   },
   "cell_type": "code",
   "source": [
    "def norm_fft(seq, window_func=None):\n",
    "    n = len(seq)\n",
    "    if window_func is None:\n",
    "        window_func = np.ones_like(seq)\n",
    "\n",
    "    res = np.abs(fft.rfft(seq * window_func) / n)\n",
    "    res[1:] *= 2\n",
    "    return res\n",
    "\n",
    "\n",
    "def energy_diff(seq1, seq2, weights=None):  # sqrt(wave power difference)\n",
    "    if weights is None:\n",
    "        weights = np.ones(len(seq1))\n",
    "\n",
    "    return np.sqrt(np.sum((np.abs((seq1 ** 2) - (seq2 ** 2))) * weights))\n",
    "\n",
    "\n",
    "def etalon_cosine(n=wsz, amplitude=1):\n",
    "    return norm_fft(amplitude * np.cos(np.linspace(0, 2 * np.pi * n / period_size, n, endpoint=False)),\n",
    "                    window_func=window_func)\n"
   ],
   "id": "75325c7c3952c572",
   "outputs": [],
   "execution_count": 7
  },
  {
   "metadata": {
    "ExecuteTime": {
     "end_time": "2025-04-26T10:50:44.623455Z",
     "start_time": "2025-04-26T10:50:44.605919Z"
    }
   },
   "cell_type": "code",
   "source": [
    "#etal0 = (np.zeros(fftsz), np.concatenate((np.ones(window_period_cnt + 1), np.zeros(fftsz - window_period_cnt - 1))))\n",
    "etal0 = np.zeros(fftsz)\n",
    "\n",
    "#etal1 = (np.zeros(fftsz), np.concatenate((np.ones(window_period_cnt + 1), np.zeros(fftsz - window_period_cnt - 1))))\n",
    "etal1 = etalon_cosine(wsz, amplitude=1)"
   ],
   "id": "b22b0fae2934ccd0",
   "outputs": [],
   "execution_count": 8
  },
  {
   "metadata": {
    "ExecuteTime": {
     "end_time": "2025-04-26T10:39:19.059184Z",
     "start_time": "2025-04-26T10:39:19.014120Z"
    }
   },
   "cell_type": "code",
   "source": [
    "#%matplotlib ipympl\n",
    "%matplotlib notebook\n",
    "\n",
    "fig, (ax1, ax2, ax3, ax4) = plt.subplots(4)\n",
    "fig.set_size_inches(12, 8)\n",
    "plt.subplots_adjust(top=0.95, bottom=0.05, left=0.1, right=0.95, hspace=0.4)\n",
    "\n",
    "#rep_cnt = 30\n",
    "# X = np.sin(np.linspace(0, 2 * np.pi * rep_cnt, period_size * rep_cnt,\n",
    "#                        endpoint=False)) + np.sin(\n",
    "#     np.linspace(0, 1 * np.pi * rep_cnt, period_size * rep_cnt, endpoint=False))\n",
    "#X += np.ones_like(X)\n",
    "\n",
    "ax1.set_title(f\"Signal ({gr_feat})\")\n",
    "ax1.set_ylim(-2, 2)\n",
    "p1, = ax1.plot([], [], label=\"Signal\")\n",
    "p1_et, = ax1.plot([], [], label=\"Etalon\", linestyle=\"--\")\n",
    "\n",
    "ax2.set_title(\"Windowed signal\")\n",
    "ax2.set_ylim(-2, 2)\n",
    "p2, = ax2.plot([], [], label=\"Windowed signal\")\n",
    "\n",
    "ax3.set_yscale('log')\n",
    "ax3.set_xlim((0, np.max(x_fft)))\n",
    "ax3.set_ylim((0.01, 2))\n",
    "#plt.ylim((0, 2))\n",
    "\n",
    "sim0 = []\n",
    "sim1 = []\n",
    "\n",
    "ax3.set_title(\"Spectrum\")\n",
    "p3, = ax3.plot(x_fft, [0] * fftsz, label=\"Spectrum\")\n",
    "p3_e1, = ax3.plot(x_fft, etal1, label=\"Etalon\", color=\"black\")\n",
    "#p3_w, = ax3.plot(x_fft, etal_weight)\n",
    "p3_d2, = ax3.plot(x_fft, np.zeros(fftsz), label=\"Energy difference\", color=\"red\")\n",
    "\n",
    "ax3.legend()\n",
    "\n",
    "ax4.set_title(\"Pattern error\")\n",
    "ax4.set_xlim((0, wsz))\n",
    "ax4.set_yscale('log')\n",
    "ax4.set_ylim((0.1, 2))\n",
    "p4_0, = ax4.plot([], [], color=\"blue\", label=\"off etalon\")\n",
    "p4_1, = ax4.plot([], [], color=\"red\", label=\"sine etalon\")\n",
    "p4_th, = ax4.plot([-1000000, 1000000], [etal_sim_th, etal_sim_th], label=\"Threshold\", linestyle=\"--\")\n",
    "#p4_state, = ax4.plot(range(wsz), np.ones(wsz))\n",
    "ax4.legend()\n",
    "ax4.grid(True)\n",
    "\n",
    "\n",
    "# lpos=0\n",
    "# p1_et.set_xdata(range(lpos, lpos + wsz))\n",
    "# p1_et.set_ydata(np.cos(np.linspace(0, 2 * np.pi * wsz / period_size, wsz, endpoint=False)))\n",
    "# #print(etal0[1])\n",
    "\n",
    "\n",
    "def update(frame):\n",
    "    lpos = frame\n",
    "    seq = data_feat[lpos:lpos + wsz].copy()\n",
    "    #seq=np.zeros_like(seq)\n",
    "    ampl = channel_ampls[gr_feat]\n",
    "\n",
    "    if gr_feat in adjust_ampl_feats:\n",
    "        sig_ampl = np.average(np.abs(seq)) * np.pi / 2\n",
    "        dif = sig_ampl / ampl\n",
    "        ampl *= np.clip(dif, 1 / adjust_ampl_factor, adjust_ampl_factor)\n",
    "        p1_et.set_xdata(range(lpos, lpos + wsz))\n",
    "        p1_et.set_ydata(np.cos(np.linspace(0, 2 * np.pi * wsz / period_size, wsz, endpoint=False)) * sig_ampl / ampl)\n",
    "\n",
    "    seq /= ampl\n",
    "\n",
    "    seq_wind = seq * window_func\n",
    "    spec = norm_fft(seq, window_func)\n",
    "\n",
    "    ax1.set_xlim(lpos, lpos + wsz)\n",
    "    ax2.set_xlim(lpos, lpos + wsz)\n",
    "    ax4.set_xlim(lpos, lpos + wsz)\n",
    "\n",
    "    p1.set_xdata(range(lpos, lpos + wsz))\n",
    "    p1.set_ydata(seq)\n",
    "\n",
    "    p2.set_xdata(range(lpos, lpos + wsz))\n",
    "    p2.set_ydata(seq_wind)\n",
    "\n",
    "    p3.set_ydata(spec)\n",
    "    p3_d2.set_ydata(np.sqrt(np.abs((spec ** 2) - (etal1 ** 2))))\n",
    "\n",
    "    sim0.append(energy_diff(etal0, spec, weights=etal_weight))\n",
    "    sim1.append(energy_diff(etal1, spec, weights=etal_weight))\n",
    "\n",
    "    lsim = lpos + wsz - min(len(sim0), wsz)\n",
    "    p4_0.set_xdata(range(lsim, lpos + wsz))\n",
    "    p4_0.set_ydata(sim0[-min(len(sim0), wsz):])\n",
    "\n",
    "    p4_1.set_xdata(range(lsim, lpos + wsz))\n",
    "    p4_1.set_ydata(sim1[-min(len(sim1), wsz):])\n",
    "\n",
    "    return p1, p2, p3, p4_0, p4_1, p4_th,\n",
    "\n",
    "\n",
    "ani = FuncAnimation(fig, update, frames=range(1, 20800), interval=1, blit=True, repeat=False)\n",
    "#plt.show()\n"
   ],
   "id": "5014b3a9999de4d5",
   "outputs": [
    {
     "data": {
      "text/plain": [
       "<IPython.core.display.Javascript object>"
      ],
      "application/javascript": "/* Put everything inside the global mpl namespace */\n/* global mpl */\nwindow.mpl = {};\n\nmpl.get_websocket_type = function () {\n    if (typeof WebSocket !== 'undefined') {\n        return WebSocket;\n    } else if (typeof MozWebSocket !== 'undefined') {\n        return MozWebSocket;\n    } else {\n        alert(\n            'Your browser does not have WebSocket support. ' +\n                'Please try Chrome, Safari or Firefox ≥ 6. ' +\n                'Firefox 4 and 5 are also supported but you ' +\n                'have to enable WebSockets in about:config.'\n        );\n    }\n};\n\nmpl.figure = function (figure_id, websocket, ondownload, parent_element) {\n    this.id = figure_id;\n\n    this.ws = websocket;\n\n    this.supports_binary = this.ws.binaryType !== undefined;\n\n    if (!this.supports_binary) {\n        var warnings = document.getElementById('mpl-warnings');\n        if (warnings) {\n            warnings.style.display = 'block';\n            warnings.textContent =\n                'This browser does not support binary websocket messages. ' +\n                'Performance may be slow.';\n        }\n    }\n\n    this.imageObj = new Image();\n\n    this.context = undefined;\n    this.message = undefined;\n    this.canvas = undefined;\n    this.rubberband_canvas = undefined;\n    this.rubberband_context = undefined;\n    this.format_dropdown = undefined;\n\n    this.image_mode = 'full';\n\n    this.root = document.createElement('div');\n    this.root.setAttribute('style', 'display: inline-block');\n    this._root_extra_style(this.root);\n\n    parent_element.appendChild(this.root);\n\n    this._init_header(this);\n    this._init_canvas(this);\n    this._init_toolbar(this);\n\n    var fig = this;\n\n    this.waiting = false;\n\n    this.ws.onopen = function () {\n        fig.send_message('supports_binary', { value: fig.supports_binary });\n        fig.send_message('send_image_mode', {});\n        if (fig.ratio !== 1) {\n            fig.send_message('set_device_pixel_ratio', {\n                device_pixel_ratio: fig.ratio,\n            });\n        }\n        fig.send_message('refresh', {});\n    };\n\n    this.imageObj.onload = function () {\n        if (fig.image_mode === 'full') {\n            // Full images could contain transparency (where diff images\n            // almost always do), so we need to clear the canvas so that\n            // there is no ghosting.\n            fig.context.clearRect(0, 0, fig.canvas.width, fig.canvas.height);\n        }\n        fig.context.drawImage(fig.imageObj, 0, 0);\n    };\n\n    this.imageObj.onunload = function () {\n        fig.ws.close();\n    };\n\n    this.ws.onmessage = this._make_on_message_function(this);\n\n    this.ondownload = ondownload;\n};\n\nmpl.figure.prototype._init_header = function () {\n    var titlebar = document.createElement('div');\n    titlebar.classList =\n        'ui-dialog-titlebar ui-widget-header ui-corner-all ui-helper-clearfix';\n    var titletext = document.createElement('div');\n    titletext.classList = 'ui-dialog-title';\n    titletext.setAttribute(\n        'style',\n        'width: 100%; text-align: center; padding: 3px;'\n    );\n    titlebar.appendChild(titletext);\n    this.root.appendChild(titlebar);\n    this.header = titletext;\n};\n\nmpl.figure.prototype._canvas_extra_style = function (_canvas_div) {};\n\nmpl.figure.prototype._root_extra_style = function (_canvas_div) {};\n\nmpl.figure.prototype._init_canvas = function () {\n    var fig = this;\n\n    var canvas_div = (this.canvas_div = document.createElement('div'));\n    canvas_div.setAttribute('tabindex', '0');\n    canvas_div.setAttribute(\n        'style',\n        'border: 1px solid #ddd;' +\n            'box-sizing: content-box;' +\n            'clear: both;' +\n            'min-height: 1px;' +\n            'min-width: 1px;' +\n            'outline: 0;' +\n            'overflow: hidden;' +\n            'position: relative;' +\n            'resize: both;' +\n            'z-index: 2;'\n    );\n\n    function on_keyboard_event_closure(name) {\n        return function (event) {\n            return fig.key_event(event, name);\n        };\n    }\n\n    canvas_div.addEventListener(\n        'keydown',\n        on_keyboard_event_closure('key_press')\n    );\n    canvas_div.addEventListener(\n        'keyup',\n        on_keyboard_event_closure('key_release')\n    );\n\n    this._canvas_extra_style(canvas_div);\n    this.root.appendChild(canvas_div);\n\n    var canvas = (this.canvas = document.createElement('canvas'));\n    canvas.classList.add('mpl-canvas');\n    canvas.setAttribute(\n        'style',\n        'box-sizing: content-box;' +\n            'pointer-events: none;' +\n            'position: relative;' +\n            'z-index: 0;'\n    );\n\n    this.context = canvas.getContext('2d');\n\n    var backingStore =\n        this.context.backingStorePixelRatio ||\n        this.context.webkitBackingStorePixelRatio ||\n        this.context.mozBackingStorePixelRatio ||\n        this.context.msBackingStorePixelRatio ||\n        this.context.oBackingStorePixelRatio ||\n        this.context.backingStorePixelRatio ||\n        1;\n\n    this.ratio = (window.devicePixelRatio || 1) / backingStore;\n\n    var rubberband_canvas = (this.rubberband_canvas = document.createElement(\n        'canvas'\n    ));\n    rubberband_canvas.setAttribute(\n        'style',\n        'box-sizing: content-box;' +\n            'left: 0;' +\n            'pointer-events: none;' +\n            'position: absolute;' +\n            'top: 0;' +\n            'z-index: 1;'\n    );\n\n    // Apply a ponyfill if ResizeObserver is not implemented by browser.\n    if (this.ResizeObserver === undefined) {\n        if (window.ResizeObserver !== undefined) {\n            this.ResizeObserver = window.ResizeObserver;\n        } else {\n            var obs = _JSXTOOLS_RESIZE_OBSERVER({});\n            this.ResizeObserver = obs.ResizeObserver;\n        }\n    }\n\n    this.resizeObserverInstance = new this.ResizeObserver(function (entries) {\n        // There's no need to resize if the WebSocket is not connected:\n        // - If it is still connecting, then we will get an initial resize from\n        //   Python once it connects.\n        // - If it has disconnected, then resizing will clear the canvas and\n        //   never get anything back to refill it, so better to not resize and\n        //   keep something visible.\n        if (fig.ws.readyState != 1) {\n            return;\n        }\n        var nentries = entries.length;\n        for (var i = 0; i < nentries; i++) {\n            var entry = entries[i];\n            var width, height;\n            if (entry.contentBoxSize) {\n                if (entry.contentBoxSize instanceof Array) {\n                    // Chrome 84 implements new version of spec.\n                    width = entry.contentBoxSize[0].inlineSize;\n                    height = entry.contentBoxSize[0].blockSize;\n                } else {\n                    // Firefox implements old version of spec.\n                    width = entry.contentBoxSize.inlineSize;\n                    height = entry.contentBoxSize.blockSize;\n                }\n            } else {\n                // Chrome <84 implements even older version of spec.\n                width = entry.contentRect.width;\n                height = entry.contentRect.height;\n            }\n\n            // Keep the size of the canvas and rubber band canvas in sync with\n            // the canvas container.\n            if (entry.devicePixelContentBoxSize) {\n                // Chrome 84 implements new version of spec.\n                canvas.setAttribute(\n                    'width',\n                    entry.devicePixelContentBoxSize[0].inlineSize\n                );\n                canvas.setAttribute(\n                    'height',\n                    entry.devicePixelContentBoxSize[0].blockSize\n                );\n            } else {\n                canvas.setAttribute('width', width * fig.ratio);\n                canvas.setAttribute('height', height * fig.ratio);\n            }\n            /* This rescales the canvas back to display pixels, so that it\n             * appears correct on HiDPI screens. */\n            canvas.style.width = width + 'px';\n            canvas.style.height = height + 'px';\n\n            rubberband_canvas.setAttribute('width', width);\n            rubberband_canvas.setAttribute('height', height);\n\n            // And update the size in Python. We ignore the initial 0/0 size\n            // that occurs as the element is placed into the DOM, which should\n            // otherwise not happen due to the minimum size styling.\n            if (width != 0 && height != 0) {\n                fig.request_resize(width, height);\n            }\n        }\n    });\n    this.resizeObserverInstance.observe(canvas_div);\n\n    function on_mouse_event_closure(name) {\n        /* User Agent sniffing is bad, but WebKit is busted:\n         * https://bugs.webkit.org/show_bug.cgi?id=144526\n         * https://bugs.webkit.org/show_bug.cgi?id=181818\n         * The worst that happens here is that they get an extra browser\n         * selection when dragging, if this check fails to catch them.\n         */\n        var UA = navigator.userAgent;\n        var isWebKit = /AppleWebKit/.test(UA) && !/Chrome/.test(UA);\n        if(isWebKit) {\n            return function (event) {\n                /* This prevents the web browser from automatically changing to\n                 * the text insertion cursor when the button is pressed. We\n                 * want to control all of the cursor setting manually through\n                 * the 'cursor' event from matplotlib */\n                event.preventDefault()\n                return fig.mouse_event(event, name);\n            };\n        } else {\n            return function (event) {\n                return fig.mouse_event(event, name);\n            };\n        }\n    }\n\n    canvas_div.addEventListener(\n        'mousedown',\n        on_mouse_event_closure('button_press')\n    );\n    canvas_div.addEventListener(\n        'mouseup',\n        on_mouse_event_closure('button_release')\n    );\n    canvas_div.addEventListener(\n        'dblclick',\n        on_mouse_event_closure('dblclick')\n    );\n    // Throttle sequential mouse events to 1 every 20ms.\n    canvas_div.addEventListener(\n        'mousemove',\n        on_mouse_event_closure('motion_notify')\n    );\n\n    canvas_div.addEventListener(\n        'mouseenter',\n        on_mouse_event_closure('figure_enter')\n    );\n    canvas_div.addEventListener(\n        'mouseleave',\n        on_mouse_event_closure('figure_leave')\n    );\n\n    canvas_div.addEventListener('wheel', function (event) {\n        if (event.deltaY < 0) {\n            event.step = 1;\n        } else {\n            event.step = -1;\n        }\n        on_mouse_event_closure('scroll')(event);\n    });\n\n    canvas_div.appendChild(canvas);\n    canvas_div.appendChild(rubberband_canvas);\n\n    this.rubberband_context = rubberband_canvas.getContext('2d');\n    this.rubberband_context.strokeStyle = '#000000';\n\n    this._resize_canvas = function (width, height, forward) {\n        if (forward) {\n            canvas_div.style.width = width + 'px';\n            canvas_div.style.height = height + 'px';\n        }\n    };\n\n    // Disable right mouse context menu.\n    canvas_div.addEventListener('contextmenu', function (_e) {\n        event.preventDefault();\n        return false;\n    });\n\n    function set_focus() {\n        canvas.focus();\n        canvas_div.focus();\n    }\n\n    window.setTimeout(set_focus, 100);\n};\n\nmpl.figure.prototype._init_toolbar = function () {\n    var fig = this;\n\n    var toolbar = document.createElement('div');\n    toolbar.classList = 'mpl-toolbar';\n    this.root.appendChild(toolbar);\n\n    function on_click_closure(name) {\n        return function (_event) {\n            return fig.toolbar_button_onclick(name);\n        };\n    }\n\n    function on_mouseover_closure(tooltip) {\n        return function (event) {\n            if (!event.currentTarget.disabled) {\n                return fig.toolbar_button_onmouseover(tooltip);\n            }\n        };\n    }\n\n    fig.buttons = {};\n    var buttonGroup = document.createElement('div');\n    buttonGroup.classList = 'mpl-button-group';\n    for (var toolbar_ind in mpl.toolbar_items) {\n        var name = mpl.toolbar_items[toolbar_ind][0];\n        var tooltip = mpl.toolbar_items[toolbar_ind][1];\n        var image = mpl.toolbar_items[toolbar_ind][2];\n        var method_name = mpl.toolbar_items[toolbar_ind][3];\n\n        if (!name) {\n            /* Instead of a spacer, we start a new button group. */\n            if (buttonGroup.hasChildNodes()) {\n                toolbar.appendChild(buttonGroup);\n            }\n            buttonGroup = document.createElement('div');\n            buttonGroup.classList = 'mpl-button-group';\n            continue;\n        }\n\n        var button = (fig.buttons[name] = document.createElement('button'));\n        button.classList = 'mpl-widget';\n        button.setAttribute('role', 'button');\n        button.setAttribute('aria-disabled', 'false');\n        button.addEventListener('click', on_click_closure(method_name));\n        button.addEventListener('mouseover', on_mouseover_closure(tooltip));\n\n        var icon_img = document.createElement('img');\n        icon_img.src = '_images/' + image + '.png';\n        icon_img.srcset = '_images/' + image + '_large.png 2x';\n        icon_img.alt = tooltip;\n        button.appendChild(icon_img);\n\n        buttonGroup.appendChild(button);\n    }\n\n    if (buttonGroup.hasChildNodes()) {\n        toolbar.appendChild(buttonGroup);\n    }\n\n    var fmt_picker = document.createElement('select');\n    fmt_picker.classList = 'mpl-widget';\n    toolbar.appendChild(fmt_picker);\n    this.format_dropdown = fmt_picker;\n\n    for (var ind in mpl.extensions) {\n        var fmt = mpl.extensions[ind];\n        var option = document.createElement('option');\n        option.selected = fmt === mpl.default_extension;\n        option.innerHTML = fmt;\n        fmt_picker.appendChild(option);\n    }\n\n    var status_bar = document.createElement('span');\n    status_bar.classList = 'mpl-message';\n    toolbar.appendChild(status_bar);\n    this.message = status_bar;\n};\n\nmpl.figure.prototype.request_resize = function (x_pixels, y_pixels) {\n    // Request matplotlib to resize the figure. Matplotlib will then trigger a resize in the client,\n    // which will in turn request a refresh of the image.\n    this.send_message('resize', { width: x_pixels, height: y_pixels });\n};\n\nmpl.figure.prototype.send_message = function (type, properties) {\n    properties['type'] = type;\n    properties['figure_id'] = this.id;\n    this.ws.send(JSON.stringify(properties));\n};\n\nmpl.figure.prototype.send_draw_message = function () {\n    if (!this.waiting) {\n        this.waiting = true;\n        this.ws.send(JSON.stringify({ type: 'draw', figure_id: this.id }));\n    }\n};\n\nmpl.figure.prototype.handle_save = function (fig, _msg) {\n    var format_dropdown = fig.format_dropdown;\n    var format = format_dropdown.options[format_dropdown.selectedIndex].value;\n    fig.ondownload(fig, format);\n};\n\nmpl.figure.prototype.handle_resize = function (fig, msg) {\n    var size = msg['size'];\n    if (size[0] !== fig.canvas.width || size[1] !== fig.canvas.height) {\n        fig._resize_canvas(size[0], size[1], msg['forward']);\n        fig.send_message('refresh', {});\n    }\n};\n\nmpl.figure.prototype.handle_rubberband = function (fig, msg) {\n    var x0 = msg['x0'] / fig.ratio;\n    var y0 = (fig.canvas.height - msg['y0']) / fig.ratio;\n    var x1 = msg['x1'] / fig.ratio;\n    var y1 = (fig.canvas.height - msg['y1']) / fig.ratio;\n    x0 = Math.floor(x0) + 0.5;\n    y0 = Math.floor(y0) + 0.5;\n    x1 = Math.floor(x1) + 0.5;\n    y1 = Math.floor(y1) + 0.5;\n    var min_x = Math.min(x0, x1);\n    var min_y = Math.min(y0, y1);\n    var width = Math.abs(x1 - x0);\n    var height = Math.abs(y1 - y0);\n\n    fig.rubberband_context.clearRect(\n        0,\n        0,\n        fig.canvas.width / fig.ratio,\n        fig.canvas.height / fig.ratio\n    );\n\n    fig.rubberband_context.strokeRect(min_x, min_y, width, height);\n};\n\nmpl.figure.prototype.handle_figure_label = function (fig, msg) {\n    // Updates the figure title.\n    fig.header.textContent = msg['label'];\n};\n\nmpl.figure.prototype.handle_cursor = function (fig, msg) {\n    fig.canvas_div.style.cursor = msg['cursor'];\n};\n\nmpl.figure.prototype.handle_message = function (fig, msg) {\n    fig.message.textContent = msg['message'];\n};\n\nmpl.figure.prototype.handle_draw = function (fig, _msg) {\n    // Request the server to send over a new figure.\n    fig.send_draw_message();\n};\n\nmpl.figure.prototype.handle_image_mode = function (fig, msg) {\n    fig.image_mode = msg['mode'];\n};\n\nmpl.figure.prototype.handle_history_buttons = function (fig, msg) {\n    for (var key in msg) {\n        if (!(key in fig.buttons)) {\n            continue;\n        }\n        fig.buttons[key].disabled = !msg[key];\n        fig.buttons[key].setAttribute('aria-disabled', !msg[key]);\n    }\n};\n\nmpl.figure.prototype.handle_navigate_mode = function (fig, msg) {\n    if (msg['mode'] === 'PAN') {\n        fig.buttons['Pan'].classList.add('active');\n        fig.buttons['Zoom'].classList.remove('active');\n    } else if (msg['mode'] === 'ZOOM') {\n        fig.buttons['Pan'].classList.remove('active');\n        fig.buttons['Zoom'].classList.add('active');\n    } else {\n        fig.buttons['Pan'].classList.remove('active');\n        fig.buttons['Zoom'].classList.remove('active');\n    }\n};\n\nmpl.figure.prototype.updated_canvas_event = function () {\n    // Called whenever the canvas gets updated.\n    this.send_message('ack', {});\n};\n\n// A function to construct a web socket function for onmessage handling.\n// Called in the figure constructor.\nmpl.figure.prototype._make_on_message_function = function (fig) {\n    return function socket_on_message(evt) {\n        if (evt.data instanceof Blob) {\n            var img = evt.data;\n            if (img.type !== 'image/png') {\n                /* FIXME: We get \"Resource interpreted as Image but\n                 * transferred with MIME type text/plain:\" errors on\n                 * Chrome.  But how to set the MIME type?  It doesn't seem\n                 * to be part of the websocket stream */\n                img.type = 'image/png';\n            }\n\n            /* Free the memory for the previous frames */\n            if (fig.imageObj.src) {\n                (window.URL || window.webkitURL).revokeObjectURL(\n                    fig.imageObj.src\n                );\n            }\n\n            fig.imageObj.src = (window.URL || window.webkitURL).createObjectURL(\n                img\n            );\n            fig.updated_canvas_event();\n            fig.waiting = false;\n            return;\n        } else if (\n            typeof evt.data === 'string' &&\n            evt.data.slice(0, 21) === 'data:image/png;base64'\n        ) {\n            fig.imageObj.src = evt.data;\n            fig.updated_canvas_event();\n            fig.waiting = false;\n            return;\n        }\n\n        var msg = JSON.parse(evt.data);\n        var msg_type = msg['type'];\n\n        // Call the  \"handle_{type}\" callback, which takes\n        // the figure and JSON message as its only arguments.\n        try {\n            var callback = fig['handle_' + msg_type];\n        } catch (e) {\n            console.log(\n                \"No handler for the '\" + msg_type + \"' message type: \",\n                msg\n            );\n            return;\n        }\n\n        if (callback) {\n            try {\n                // console.log(\"Handling '\" + msg_type + \"' message: \", msg);\n                callback(fig, msg);\n            } catch (e) {\n                console.log(\n                    \"Exception inside the 'handler_\" + msg_type + \"' callback:\",\n                    e,\n                    e.stack,\n                    msg\n                );\n            }\n        }\n    };\n};\n\nfunction getModifiers(event) {\n    var mods = [];\n    if (event.ctrlKey) {\n        mods.push('ctrl');\n    }\n    if (event.altKey) {\n        mods.push('alt');\n    }\n    if (event.shiftKey) {\n        mods.push('shift');\n    }\n    if (event.metaKey) {\n        mods.push('meta');\n    }\n    return mods;\n}\n\n/*\n * return a copy of an object with only non-object keys\n * we need this to avoid circular references\n * https://stackoverflow.com/a/24161582/3208463\n */\nfunction simpleKeys(original) {\n    return Object.keys(original).reduce(function (obj, key) {\n        if (typeof original[key] !== 'object') {\n            obj[key] = original[key];\n        }\n        return obj;\n    }, {});\n}\n\nmpl.figure.prototype.mouse_event = function (event, name) {\n    if (name === 'button_press') {\n        this.canvas.focus();\n        this.canvas_div.focus();\n    }\n\n    // from https://stackoverflow.com/q/1114465\n    var boundingRect = this.canvas.getBoundingClientRect();\n    var x = (event.clientX - boundingRect.left) * this.ratio;\n    var y = (event.clientY - boundingRect.top) * this.ratio;\n\n    this.send_message(name, {\n        x: x,\n        y: y,\n        button: event.button,\n        step: event.step,\n        buttons: event.buttons,\n        modifiers: getModifiers(event),\n        guiEvent: simpleKeys(event),\n    });\n\n    return false;\n};\n\nmpl.figure.prototype._key_event_extra = function (_event, _name) {\n    // Handle any extra behaviour associated with a key event\n};\n\nmpl.figure.prototype.key_event = function (event, name) {\n    // Prevent repeat events\n    if (name === 'key_press') {\n        if (event.key === this._key) {\n            return;\n        } else {\n            this._key = event.key;\n        }\n    }\n    if (name === 'key_release') {\n        this._key = null;\n    }\n\n    var value = '';\n    if (event.ctrlKey && event.key !== 'Control') {\n        value += 'ctrl+';\n    }\n    else if (event.altKey && event.key !== 'Alt') {\n        value += 'alt+';\n    }\n    else if (event.shiftKey && event.key !== 'Shift') {\n        value += 'shift+';\n    }\n\n    value += 'k' + event.key;\n\n    this._key_event_extra(event, name);\n\n    this.send_message(name, { key: value, guiEvent: simpleKeys(event) });\n    return false;\n};\n\nmpl.figure.prototype.toolbar_button_onclick = function (name) {\n    if (name === 'download') {\n        this.handle_save(this, null);\n    } else {\n        this.send_message('toolbar_button', { name: name });\n    }\n};\n\nmpl.figure.prototype.toolbar_button_onmouseover = function (tooltip) {\n    this.message.textContent = tooltip;\n};\n\n///////////////// REMAINING CONTENT GENERATED BY embed_js.py /////////////////\n// prettier-ignore\nvar _JSXTOOLS_RESIZE_OBSERVER=function(A){var t,i=new WeakMap,n=new WeakMap,a=new WeakMap,r=new WeakMap,o=new Set;function s(e){if(!(this instanceof s))throw new TypeError(\"Constructor requires 'new' operator\");i.set(this,e)}function h(){throw new TypeError(\"Function is not a constructor\")}function c(e,t,i,n){e=0 in arguments?Number(arguments[0]):0,t=1 in arguments?Number(arguments[1]):0,i=2 in arguments?Number(arguments[2]):0,n=3 in arguments?Number(arguments[3]):0,this.right=(this.x=this.left=e)+(this.width=i),this.bottom=(this.y=this.top=t)+(this.height=n),Object.freeze(this)}function d(){t=requestAnimationFrame(d);var s=new WeakMap,p=new Set;o.forEach((function(t){r.get(t).forEach((function(i){var r=t instanceof window.SVGElement,o=a.get(t),d=r?0:parseFloat(o.paddingTop),f=r?0:parseFloat(o.paddingRight),l=r?0:parseFloat(o.paddingBottom),u=r?0:parseFloat(o.paddingLeft),g=r?0:parseFloat(o.borderTopWidth),m=r?0:parseFloat(o.borderRightWidth),w=r?0:parseFloat(o.borderBottomWidth),b=u+f,F=d+l,v=(r?0:parseFloat(o.borderLeftWidth))+m,W=g+w,y=r?0:t.offsetHeight-W-t.clientHeight,E=r?0:t.offsetWidth-v-t.clientWidth,R=b+v,z=F+W,M=r?t.width:parseFloat(o.width)-R-E,O=r?t.height:parseFloat(o.height)-z-y;if(n.has(t)){var k=n.get(t);if(k[0]===M&&k[1]===O)return}n.set(t,[M,O]);var S=Object.create(h.prototype);S.target=t,S.contentRect=new c(u,d,M,O),s.has(i)||(s.set(i,[]),p.add(i)),s.get(i).push(S)}))})),p.forEach((function(e){i.get(e).call(e,s.get(e),e)}))}return s.prototype.observe=function(i){if(i instanceof window.Element){r.has(i)||(r.set(i,new Set),o.add(i),a.set(i,window.getComputedStyle(i)));var n=r.get(i);n.has(this)||n.add(this),cancelAnimationFrame(t),t=requestAnimationFrame(d)}},s.prototype.unobserve=function(i){if(i instanceof window.Element&&r.has(i)){var n=r.get(i);n.has(this)&&(n.delete(this),n.size||(r.delete(i),o.delete(i))),n.size||r.delete(i),o.size||cancelAnimationFrame(t)}},A.DOMRectReadOnly=c,A.ResizeObserver=s,A.ResizeObserverEntry=h,A}; // eslint-disable-line\nmpl.toolbar_items = [[\"Home\", \"Reset original view\", \"fa fa-home\", \"home\"], [\"Back\", \"Back to previous view\", \"fa fa-arrow-left\", \"back\"], [\"Forward\", \"Forward to next view\", \"fa fa-arrow-right\", \"forward\"], [\"\", \"\", \"\", \"\"], [\"Pan\", \"Left button pans, Right button zooms\\nx/y fixes axis, CTRL fixes aspect\", \"fa fa-arrows\", \"pan\"], [\"Zoom\", \"Zoom to rectangle\\nx/y fixes axis\", \"fa fa-square-o\", \"zoom\"], [\"\", \"\", \"\", \"\"], [\"Download\", \"Download plot\", \"fa fa-floppy-o\", \"download\"]];\n\nmpl.extensions = [\"eps\", \"jpeg\", \"pgf\", \"pdf\", \"png\", \"ps\", \"raw\", \"svg\", \"tif\", \"webp\"];\n\nmpl.default_extension = \"png\";/* global mpl */\n\nvar comm_websocket_adapter = function (comm) {\n    // Create a \"websocket\"-like object which calls the given IPython comm\n    // object with the appropriate methods. Currently this is a non binary\n    // socket, so there is still some room for performance tuning.\n    var ws = {};\n\n    ws.binaryType = comm.kernel.ws.binaryType;\n    ws.readyState = comm.kernel.ws.readyState;\n    function updateReadyState(_event) {\n        if (comm.kernel.ws) {\n            ws.readyState = comm.kernel.ws.readyState;\n        } else {\n            ws.readyState = 3; // Closed state.\n        }\n    }\n    comm.kernel.ws.addEventListener('open', updateReadyState);\n    comm.kernel.ws.addEventListener('close', updateReadyState);\n    comm.kernel.ws.addEventListener('error', updateReadyState);\n\n    ws.close = function () {\n        comm.close();\n    };\n    ws.send = function (m) {\n        //console.log('sending', m);\n        comm.send(m);\n    };\n    // Register the callback with on_msg.\n    comm.on_msg(function (msg) {\n        //console.log('receiving', msg['content']['data'], msg);\n        var data = msg['content']['data'];\n        if (data['blob'] !== undefined) {\n            data = {\n                data: new Blob(msg['buffers'], { type: data['blob'] }),\n            };\n        }\n        // Pass the mpl event to the overridden (by mpl) onmessage function.\n        ws.onmessage(data);\n    });\n    return ws;\n};\n\nmpl.mpl_figure_comm = function (comm, msg) {\n    // This is the function which gets called when the mpl process\n    // starts-up an IPython Comm through the \"matplotlib\" channel.\n\n    var id = msg.content.data.id;\n    // Get hold of the div created by the display call when the Comm\n    // socket was opened in Python.\n    var element = document.getElementById(id);\n    var ws_proxy = comm_websocket_adapter(comm);\n\n    function ondownload(figure, _format) {\n        window.open(figure.canvas.toDataURL());\n    }\n\n    var fig = new mpl.figure(id, ws_proxy, ondownload, element);\n\n    // Call onopen now - mpl needs it, as it is assuming we've passed it a real\n    // web socket which is closed, not our websocket->open comm proxy.\n    ws_proxy.onopen();\n\n    fig.parent_element = element;\n    fig.cell_info = mpl.find_output_cell(\"<div id='\" + id + \"'></div>\");\n    if (!fig.cell_info) {\n        console.error('Failed to find cell for figure', id, fig);\n        return;\n    }\n    fig.cell_info[0].output_area.element.on(\n        'cleared',\n        { fig: fig },\n        fig._remove_fig_handler\n    );\n};\n\nmpl.figure.prototype.handle_close = function (fig, msg) {\n    var width = fig.canvas.width / fig.ratio;\n    fig.cell_info[0].output_area.element.off(\n        'cleared',\n        fig._remove_fig_handler\n    );\n    fig.resizeObserverInstance.unobserve(fig.canvas_div);\n\n    // Update the output cell to use the data from the current canvas.\n    fig.push_to_output();\n    var dataURL = fig.canvas.toDataURL();\n    // Re-enable the keyboard manager in IPython - without this line, in FF,\n    // the notebook keyboard shortcuts fail.\n    IPython.keyboard_manager.enable();\n    fig.parent_element.innerHTML =\n        '<img src=\"' + dataURL + '\" width=\"' + width + '\">';\n    fig.close_ws(fig, msg);\n};\n\nmpl.figure.prototype.close_ws = function (fig, msg) {\n    fig.send_message('closing', msg);\n    // fig.ws.close()\n};\n\nmpl.figure.prototype.push_to_output = function (_remove_interactive) {\n    // Turn the data on the canvas into data in the output cell.\n    var width = this.canvas.width / this.ratio;\n    var dataURL = this.canvas.toDataURL();\n    this.cell_info[1]['text/html'] =\n        '<img src=\"' + dataURL + '\" width=\"' + width + '\">';\n};\n\nmpl.figure.prototype.updated_canvas_event = function () {\n    // Tell IPython that the notebook contents must change.\n    IPython.notebook.set_dirty(true);\n    this.send_message('ack', {});\n    var fig = this;\n    // Wait a second, then push the new image to the DOM so\n    // that it is saved nicely (might be nice to debounce this).\n    setTimeout(function () {\n        fig.push_to_output();\n    }, 1000);\n};\n\nmpl.figure.prototype._init_toolbar = function () {\n    var fig = this;\n\n    var toolbar = document.createElement('div');\n    toolbar.classList = 'btn-toolbar';\n    this.root.appendChild(toolbar);\n\n    function on_click_closure(name) {\n        return function (_event) {\n            return fig.toolbar_button_onclick(name);\n        };\n    }\n\n    function on_mouseover_closure(tooltip) {\n        return function (event) {\n            if (!event.currentTarget.disabled) {\n                return fig.toolbar_button_onmouseover(tooltip);\n            }\n        };\n    }\n\n    fig.buttons = {};\n    var buttonGroup = document.createElement('div');\n    buttonGroup.classList = 'btn-group';\n    var button;\n    for (var toolbar_ind in mpl.toolbar_items) {\n        var name = mpl.toolbar_items[toolbar_ind][0];\n        var tooltip = mpl.toolbar_items[toolbar_ind][1];\n        var image = mpl.toolbar_items[toolbar_ind][2];\n        var method_name = mpl.toolbar_items[toolbar_ind][3];\n\n        if (!name) {\n            /* Instead of a spacer, we start a new button group. */\n            if (buttonGroup.hasChildNodes()) {\n                toolbar.appendChild(buttonGroup);\n            }\n            buttonGroup = document.createElement('div');\n            buttonGroup.classList = 'btn-group';\n            continue;\n        }\n\n        button = fig.buttons[name] = document.createElement('button');\n        button.classList = 'btn btn-default';\n        button.href = '#';\n        button.title = name;\n        button.innerHTML = '<i class=\"fa ' + image + ' fa-lg\"></i>';\n        button.addEventListener('click', on_click_closure(method_name));\n        button.addEventListener('mouseover', on_mouseover_closure(tooltip));\n        buttonGroup.appendChild(button);\n    }\n\n    if (buttonGroup.hasChildNodes()) {\n        toolbar.appendChild(buttonGroup);\n    }\n\n    // Add the status bar.\n    var status_bar = document.createElement('span');\n    status_bar.classList = 'mpl-message pull-right';\n    toolbar.appendChild(status_bar);\n    this.message = status_bar;\n\n    // Add the close button to the window.\n    var buttongrp = document.createElement('div');\n    buttongrp.classList = 'btn-group inline pull-right';\n    button = document.createElement('button');\n    button.classList = 'btn btn-mini btn-primary';\n    button.href = '#';\n    button.title = 'Stop Interaction';\n    button.innerHTML = '<i class=\"fa fa-power-off icon-remove icon-large\"></i>';\n    button.addEventListener('click', function (_evt) {\n        fig.handle_close(fig, {});\n    });\n    button.addEventListener(\n        'mouseover',\n        on_mouseover_closure('Stop Interaction')\n    );\n    buttongrp.appendChild(button);\n    var titlebar = this.root.querySelector('.ui-dialog-titlebar');\n    titlebar.insertBefore(buttongrp, titlebar.firstChild);\n};\n\nmpl.figure.prototype._remove_fig_handler = function (event) {\n    var fig = event.data.fig;\n    if (event.target !== this) {\n        // Ignore bubbled events from children.\n        return;\n    }\n    fig.close_ws(fig, {});\n};\n\nmpl.figure.prototype._root_extra_style = function (el) {\n    el.style.boxSizing = 'content-box'; // override notebook setting of border-box.\n};\n\nmpl.figure.prototype._canvas_extra_style = function (el) {\n    // this is important to make the div 'focusable\n    el.setAttribute('tabindex', 0);\n    // reach out to IPython and tell the keyboard manager to turn it's self\n    // off when our div gets focus\n\n    // location in version 3\n    if (IPython.notebook.keyboard_manager) {\n        IPython.notebook.keyboard_manager.register_events(el);\n    } else {\n        // location in version 2\n        IPython.keyboard_manager.register_events(el);\n    }\n};\n\nmpl.figure.prototype._key_event_extra = function (event, _name) {\n    // Check for shift+enter\n    if (event.shiftKey && event.which === 13) {\n        this.canvas_div.blur();\n        // select the cell after this one\n        var index = IPython.notebook.find_cell_index(this.cell_info[0]);\n        IPython.notebook.select(index + 1);\n    }\n};\n\nmpl.figure.prototype.handle_save = function (fig, _msg) {\n    fig.ondownload(fig, null);\n};\n\nmpl.find_output_cell = function (html_output) {\n    // Return the cell and output element which can be found *uniquely* in the notebook.\n    // Note - this is a bit hacky, but it is done because the \"notebook_saving.Notebook\"\n    // IPython event is triggered only after the cells have been serialised, which for\n    // our purposes (turning an active figure into a static one), is too late.\n    var cells = IPython.notebook.get_cells();\n    var ncells = cells.length;\n    for (var i = 0; i < ncells; i++) {\n        var cell = cells[i];\n        if (cell.cell_type === 'code') {\n            for (var j = 0; j < cell.output_area.outputs.length; j++) {\n                var data = cell.output_area.outputs[j];\n                if (data.data) {\n                    // IPython >= 3 moved mimebundle to data attribute of output\n                    data = data.data;\n                }\n                if (data['text/html'] === html_output) {\n                    return [cell, data, j];\n                }\n            }\n        }\n    }\n};\n\n// Register the function which deals with the matplotlib target/channel.\n// The kernel may be null if the page has been refreshed.\nif (IPython.notebook.kernel !== null) {\n    IPython.notebook.kernel.comm_manager.register_target(\n        'matplotlib',\n        mpl.mpl_figure_comm\n    );\n}\n"
     },
     "metadata": {},
     "output_type": "display_data"
    },
    {
     "data": {
      "text/plain": [
       "<IPython.core.display.HTML object>"
      ],
      "text/html": [
       "<div id='dca60543-98c3-4874-83df-455a136a0a08'></div>"
      ]
     },
     "metadata": {},
     "output_type": "display_data"
    }
   ],
   "execution_count": 9
  },
  {
   "metadata": {
    "ExecuteTime": {
     "end_time": "2025-04-26T10:58:08.122453Z",
     "start_time": "2025-04-26T10:58:07.947158Z"
    }
   },
   "cell_type": "code",
   "source": "etal1",
   "id": "acb9eb9e700fcb2",
   "outputs": [
    {
     "ename": "NameError",
     "evalue": "name 'etal1' is not defined",
     "output_type": "error",
     "traceback": [
      "\u001B[1;31m---------------------------------------------------------------------------\u001B[0m",
      "\u001B[1;31mNameError\u001B[0m                                 Traceback (most recent call last)",
      "Cell \u001B[1;32mIn[1], line 1\u001B[0m\n\u001B[1;32m----> 1\u001B[0m \u001B[43metal1\u001B[49m\n",
      "\u001B[1;31mNameError\u001B[0m: name 'etal1' is not defined"
     ]
    }
   ],
   "execution_count": 1
  },
  {
   "metadata": {
    "ExecuteTime": {
     "end_time": "2025-04-26T10:50:52.117479Z",
     "start_time": "2025-04-26T10:50:52.109872Z"
    }
   },
   "cell_type": "code",
   "source": [
    "dataset_path = \"../../Data/OscData2.csv\"\n",
    "save_path = \"../../Data/OscData2\"\n",
    "\n",
    "period_size = 32\n",
    "window_period_cnt = 8\n",
    "wsz = period_size * window_period_cnt\n",
    "etal_sim_th = -1  # 0.5  # max value of standard deviation with etalon, recommended to leave only abnormal events: 0.5\n",
    "\n",
    "wcnt = 3  # number of spectrum recordings in generated data\n",
    "capwsz = wsz  # size of window of recordings\n",
    "wshift = capwsz // 2  # shift between recordings\n",
    "unmatched_channels_th = 3  # threshold which states the least number of unmatched channels for measure to be considered abnormal\n",
    "capture_step = 7  # step between recordings\n",
    "adjust_ampl_factor = 2  # features from adjust_ampl_feats have adaptive amplitude scale from 1/fac to fac\n",
    "\n",
    "\n",
    "\n",
    "viewsz = capwsz + wshift * (wcnt - 1)\n",
    "lpadding = (viewsz - wsz)\n",
    "feats = [\"UA BB\", \"UB BB\", \"UC BB\"]  # [\"IA\", \"IC\", \"UA BB\", \"UB BB\", \"UC BB\"]  # , \"UN BB\"\n",
    "adjust_ampl_feats = {\"IA\", \"IC\"}  # \"UN BB\"\n",
    "x_fft = fft.rfftfreq(wsz, 1.0 / period_size)\n",
    "specsz = len(x_fft)\n",
    "etal_weight = np.ones(specsz)\n",
    "window_func = np.hanning(wsz)\n",
    "window_func /= np.sqrt(np.average(window_func ** 2))\n",
    "cap_window_func = np.hanning(capwsz)\n",
    "\n",
    "channel_ampls = defaultdict(lambda: 1, {\n",
    "    \"IA\": 1,\n",
    "    \"IB\": 1,\n",
    "    \"IC\": 1,\n",
    "    \"UA BB\": 84.5,\n",
    "    \"UB BB\": 84.5,\n",
    "    \"UC BB\": 84.5,\n",
    "    \"UN BB\": 1,\n",
    "})\n",
    "\n",
    "op_names = ['opr_swch', 'abnorm_evnt', 'emerg_evnt', 'normal']\n"
   ],
   "id": "d01cdf11d1aa7433",
   "outputs": [],
   "execution_count": 10
  },
  {
   "metadata": {
    "ExecuteTime": {
     "end_time": "2025-04-26T10:50:52.757905Z",
     "start_time": "2025-04-26T10:50:52.744868Z"
    }
   },
   "cell_type": "code",
   "source": [
    "def match_etal(lpos, data_track, wsz=wsz, window_func=window_func):\n",
    "    seq_trim = data_track[lpos:lpos + wsz]\n",
    "    nomatch = []\n",
    "\n",
    "    for feat in feats:\n",
    "        seq = seq_trim[feat].values.copy()\n",
    "        ampl = channel_ampls[feat]\n",
    "\n",
    "        if feat in adjust_ampl_feats:\n",
    "            sig_ampl = np.average(np.abs(seq)) * np.pi / 2\n",
    "            dif = sig_ampl / ampl\n",
    "            ampl *= np.clip(dif, 1 / adjust_ampl_factor, adjust_ampl_factor)\n",
    "\n",
    "        seq /= ampl\n",
    "        spec = norm_fft(seq, window_func)\n",
    "\n",
    "        sim0 = energy_diff(etal0, spec, weights=etal_weight)\n",
    "        sim1 = energy_diff(etal1, spec, weights=etal_weight)\n",
    "\n",
    "        if min(sim0, sim1) > etal_sim_th:\n",
    "            nomatch.append(feat)\n",
    "    return nomatch\n",
    "\n",
    "\n",
    "def gen_case(starttime, data_track, wcnt=wcnt, window_func=cap_window_func, capwsz=capwsz, wshift=wshift):\n",
    "    measures = []\n",
    "\n",
    "    for lpos in range(starttime, starttime + wshift * wcnt, wshift):\n",
    "        rpos = lpos + capwsz\n",
    "        if lpos < 0 or rpos >= len(data):\n",
    "            raise IndexError(\"Wrong time interval for case generation\")\n",
    "\n",
    "        seq_trim = data_track[lpos:lpos + capwsz]\n",
    "        spectrums = []\n",
    "\n",
    "        for feat in feats:\n",
    "            seq = seq_trim[feat].values.copy()\n",
    "            ampl = channel_ampls[feat]\n",
    "            seq /= ampl\n",
    "            spec = norm_fft(seq, window_func)\n",
    "            spectrums.append(spec)\n",
    "\n",
    "        measures.append(spectrums)\n",
    "    return np.array(measures)"
   ],
   "id": "a6a747500945ba26",
   "outputs": [],
   "execution_count": 11
  },
  {
   "metadata": {
    "ExecuteTime": {
     "end_time": "2025-04-26T10:50:53.640692Z",
     "start_time": "2025-04-26T10:50:53.621674Z"
    }
   },
   "cell_type": "code",
   "source": [
    "import pandas as pd\n",
    "def process_file(filename: str):\n",
    "    data_track = data[data[\"file_name\"] == filename]\n",
    "\n",
    "    wtf = gen_case(0, data_track=data_track, wcnt=wcnt, window_func=cap_window_func, capwsz=capwsz,\n",
    "                            wshift=wshift)\n",
    "    print(wtf.shape)\n",
    "    plt.plot(etal1)\n",
    "    # for i in range(wtf.shape[1]):\n",
    "    #     plt.plot(wtf[0, i])\n",
    "    plt.show()\n",
    "    exit(0)"
   ],
   "id": "be9d2e73325aabf",
   "outputs": [],
   "execution_count": 12
  },
  {
   "metadata": {
    "ExecuteTime": {
     "end_time": "2025-04-26T10:50:54.984132Z",
     "start_time": "2025-04-26T10:50:54.540141Z"
    }
   },
   "cell_type": "code",
   "source": [
    "data = pd.read_csv(dataset_path)\n",
    "data[op_names] = data[op_names].fillna(value=0)\n",
    "# data.fillna({\"IB\": 0}, inplace=True)\n",
    "data.dropna(axis=1, how='any', inplace=True)\n",
    "files = np.unique(data[\"file_name\"].values)\n",
    "\n",
    "X, y = np.ndarray((0, wcnt, len(feats), (capwsz // 2) + 1)), np.array([])\n",
    "\n",
    "for filename in tqdm(files):\n",
    "    # filename=\"b629f3bb07ef79f5845c27daa0a83425_Bus 2 _event N1\"\n",
    "    # print(f\"Working with file {filename}\")\n",
    "    tX, ty = process_file(filename)\n",
    "    break"
   ],
   "id": "7f198e705ec74fcd",
   "outputs": [
    {
     "name": "stderr",
     "output_type": "stream",
     "text": [
      "  0%|          | 0/66 [00:00<?, ?it/s]"
     ]
    },
    {
     "name": "stdout",
     "output_type": "stream",
     "text": [
      "(3, 3, 129)\n"
     ]
    },
    {
     "data": {
      "text/plain": [
       "Canvas(toolbar=Toolbar(toolitems=[('Home', 'Reset original view', 'home', 'home'), ('Back', 'Back to previous …"
      ],
      "image/png": "[encoded data removed]",
      "text/html": [
       "\n",
       "            <div style=\"display: inline-block;\">\n",
       "                <div class=\"jupyter-widgets widget-label\" style=\"text-align: center;\">\n",
       "                    Figure\n",
       "                </div>\n",
       "                <img src='data:image/png;base64,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' width=640.0/>\n",
       "            </div>\n",
       "        "
      ],
      "application/vnd.jupyter.widget-view+json": {
       "version_major": 2,
       "version_minor": 0,
       "model_id": "c277d51607ea46d9a969b494139f6e7b"
      }
     },
     "metadata": {},
     "output_type": "display_data"
    },
    {
     "name": "stderr",
     "output_type": "stream",
     "text": [
      "  0%|          | 0/66 [00:00<?, ?it/s]\n"
     ]
    },
    {
     "ename": "TypeError",
     "evalue": "cannot unpack non-iterable NoneType object",
     "output_type": "error",
     "traceback": [
      "\u001B[1;31m---------------------------------------------------------------------------\u001B[0m",
      "\u001B[1;31mTypeError\u001B[0m                                 Traceback (most recent call last)",
      "Cell \u001B[1;32mIn[13], line 12\u001B[0m\n\u001B[0;32m      7\u001B[0m X, y \u001B[38;5;241m=\u001B[39m np\u001B[38;5;241m.\u001B[39mndarray((\u001B[38;5;241m0\u001B[39m, wcnt, \u001B[38;5;28mlen\u001B[39m(feats), (capwsz \u001B[38;5;241m/\u001B[39m\u001B[38;5;241m/\u001B[39m \u001B[38;5;241m2\u001B[39m) \u001B[38;5;241m+\u001B[39m \u001B[38;5;241m1\u001B[39m)), np\u001B[38;5;241m.\u001B[39marray([])\n\u001B[0;32m      9\u001B[0m \u001B[38;5;28;01mfor\u001B[39;00m filename \u001B[38;5;129;01min\u001B[39;00m tqdm(files):\n\u001B[0;32m     10\u001B[0m     \u001B[38;5;66;03m# filename=\"b629f3bb07ef79f5845c27daa0a83425_Bus 2 _event N1\"\u001B[39;00m\n\u001B[0;32m     11\u001B[0m     \u001B[38;5;66;03m# print(f\"Working with file {filename}\")\u001B[39;00m\n\u001B[1;32m---> 12\u001B[0m     tX, ty \u001B[38;5;241m=\u001B[39m process_file(filename)\n\u001B[0;32m     13\u001B[0m     \u001B[38;5;28;01mbreak\u001B[39;00m\n",
      "\u001B[1;31mTypeError\u001B[0m: cannot unpack non-iterable NoneType object"
     ]
    }
   ],
   "execution_count": 13
  },
  {
   "metadata": {
    "ExecuteTime": {
     "end_time": "2025-04-26T10:38:31.810100Z",
     "start_time": "2025-04-26T10:38:31.795580Z"
    }
   },
   "cell_type": "code",
   "source": [
    "print(X.shape)\n",
    "print(y.shape)\n",
    "print(y)"
   ],
   "id": "1fe95ce7fa4d6ffe",
   "outputs": [
    {
     "name": "stdout",
     "output_type": "stream",
     "text": [
      "(0,)\n",
      "(0,)\n",
      "[]\n"
     ]
    }
   ],
   "execution_count": 15
  },
  {
   "metadata": {
    "ExecuteTime": {
     "end_time": "2025-04-26T10:46:06.870576Z",
     "start_time": "2025-04-26T10:46:06.801443Z"
    }
   },
   "cell_type": "code",
   "source": [
    "%matplotlib inline\n",
    "\n",
    "lpos = 420\n",
    "seq = X[lpos:lpos + wsz].copy()\n",
    "ampl = channel_ampls[gr_feat]\n",
    "seq /= ampl\n",
    "seq_wind = seq * window_func\n",
    "spec = norm_fft(seq, window_func)\n",
    "\n",
    "plt.figure(figsize=(12, 8))\n",
    "plt.xlim((0, 20))\n",
    "plt.ylim((0.01, 1))\n",
    "plt.grid(which='both')\n",
    "plt.yscale('log')\n",
    "plt.plot(spec, label=\"Spectrum\")\n",
    "plt.plot(etal1, label=\"Etalon\")\n",
    "plt.plot(spec - etal1, label=\"Dif\")\n",
    "plt.plot(np.abs((spec ** 2) - (etal1 ** 2)), label=\"2 Dif\")\n",
    "plt.legend()\n",
    "plt.show()"
   ],
   "id": "c1609ecc41a5639e",
   "outputs": [
    {
     "ename": "NameError",
     "evalue": "name 'X' is not defined",
     "output_type": "error",
     "traceback": [
      "\u001B[1;31m---------------------------------------------------------------------------\u001B[0m",
      "\u001B[1;31mNameError\u001B[0m                                 Traceback (most recent call last)",
      "Cell \u001B[1;32mIn[13], line 4\u001B[0m\n\u001B[0;32m      1\u001B[0m get_ipython()\u001B[38;5;241m.\u001B[39mrun_line_magic(\u001B[38;5;124m'\u001B[39m\u001B[38;5;124mmatplotlib\u001B[39m\u001B[38;5;124m'\u001B[39m, \u001B[38;5;124m'\u001B[39m\u001B[38;5;124minline\u001B[39m\u001B[38;5;124m'\u001B[39m)\n\u001B[0;32m      3\u001B[0m lpos \u001B[38;5;241m=\u001B[39m \u001B[38;5;241m420\u001B[39m\n\u001B[1;32m----> 4\u001B[0m seq \u001B[38;5;241m=\u001B[39m \u001B[43mX\u001B[49m[lpos:lpos \u001B[38;5;241m+\u001B[39m wsz]\u001B[38;5;241m.\u001B[39mcopy()\n\u001B[0;32m      5\u001B[0m ampl \u001B[38;5;241m=\u001B[39m channel_ampls[gr_feat]\n\u001B[0;32m      6\u001B[0m seq \u001B[38;5;241m/\u001B[39m\u001B[38;5;241m=\u001B[39m ampl\n",
      "\u001B[1;31mNameError\u001B[0m: name 'X' is not defined"
     ]
    }
   ],
   "execution_count": 13
  },
  {
   "metadata": {
    "ExecuteTime": {
     "end_time": "2025-04-26T10:38:32.107141700Z",
     "start_time": "2025-04-25T14:40:06.588290Z"
    }
   },
   "cell_type": "code",
   "source": [
    "lpos = 2200\n",
    "seq = X[lpos:lpos + wsz]\n",
    "ampl = channel_ampls[gr_feat]\n",
    "feat = \"UN BB\"\n",
    "if feat in adjust_ampl_feats:\n",
    "    sig_ampl = np.average(np.abs(seq)) * np.pi / 2\n",
    "    dif = sig_ampl / ampl\n",
    "    # ampl *= np.clip(dif, 1 / adjust_ampl_factor, adjust_ampl_factor)\n",
    "    p1_et.set_xdata(range(lpos, lpos + wsz))\n",
    "    p1_et.set_ydata(np.cos(np.linspace(0, 2 * np.pi * wsz / period_size, wsz, endpoint=False) * sig_ampl / ampl))\n",
    "\n",
    "seq /= ampl\n",
    "seq_wind = seq * window_func\n",
    "spec = norm_fft(seq, window_func)\n",
    "print(spec)"
   ],
   "id": "552d45c739edf199",
   "outputs": [
    {
     "ename": "TypeError",
     "evalue": "unsupported operand type(s) for /=: 'list' and 'float'",
     "output_type": "error",
     "traceback": [
      "\u001B[1;31m---------------------------------------------------------------------------\u001B[0m",
      "\u001B[1;31mTypeError\u001B[0m                                 Traceback (most recent call last)",
      "Cell \u001B[1;32mIn[34], line 12\u001B[0m\n\u001B[0;32m      9\u001B[0m     p1_et\u001B[38;5;241m.\u001B[39mset_xdata(\u001B[38;5;28mrange\u001B[39m(lpos, lpos \u001B[38;5;241m+\u001B[39m wsz))\n\u001B[0;32m     10\u001B[0m     p1_et\u001B[38;5;241m.\u001B[39mset_ydata(np\u001B[38;5;241m.\u001B[39mcos(np\u001B[38;5;241m.\u001B[39mlinspace(\u001B[38;5;241m0\u001B[39m, \u001B[38;5;241m2\u001B[39m \u001B[38;5;241m*\u001B[39m np\u001B[38;5;241m.\u001B[39mpi \u001B[38;5;241m*\u001B[39m wsz \u001B[38;5;241m/\u001B[39m period_size, wsz, endpoint\u001B[38;5;241m=\u001B[39m\u001B[38;5;28;01mFalse\u001B[39;00m) \u001B[38;5;241m*\u001B[39m sig_ampl \u001B[38;5;241m/\u001B[39m ampl))\n\u001B[1;32m---> 12\u001B[0m seq \u001B[38;5;241m/\u001B[39m\u001B[38;5;241m=\u001B[39m ampl\n\u001B[0;32m     13\u001B[0m seq_wind \u001B[38;5;241m=\u001B[39m seq \u001B[38;5;241m*\u001B[39m window_func\n\u001B[0;32m     14\u001B[0m spec \u001B[38;5;241m=\u001B[39m norm_fft(seq, window_func)\n",
      "\u001B[1;31mTypeError\u001B[0m: unsupported operand type(s) for /=: 'list' and 'float'"
     ]
    }
   ],
   "execution_count": 34
  },
  {
   "metadata": {
    "ExecuteTime": {
     "end_time": "2025-04-26T10:38:32.107141700Z",
     "start_time": "2025-04-25T14:40:06.799682Z"
    }
   },
   "cell_type": "code",
   "source": [
    "lsim = lpos + wsz - max(len(sim0), wsz)\n",
    "ax4.set_xdata(range(lsim, lpos + wsz))\n",
    "ax4.set_ydata(sim0[-max(len(sim0), wsz):])"
   ],
   "id": "67c82a432f6e7cda",
   "outputs": [
    {
     "ename": "AttributeError",
     "evalue": "'Axes' object has no attribute 'set_xdata'",
     "output_type": "error",
     "traceback": [
      "\u001B[1;31m---------------------------------------------------------------------------\u001B[0m",
      "\u001B[1;31mAttributeError\u001B[0m                            Traceback (most recent call last)",
      "Cell \u001B[1;32mIn[35], line 2\u001B[0m\n\u001B[0;32m      1\u001B[0m lsim \u001B[38;5;241m=\u001B[39m lpos \u001B[38;5;241m+\u001B[39m wsz \u001B[38;5;241m-\u001B[39m \u001B[38;5;28mmax\u001B[39m(\u001B[38;5;28mlen\u001B[39m(sim0), wsz)\n\u001B[1;32m----> 2\u001B[0m \u001B[43max4\u001B[49m\u001B[38;5;241;43m.\u001B[39;49m\u001B[43mset_xdata\u001B[49m(\u001B[38;5;28mrange\u001B[39m(lsim, lpos \u001B[38;5;241m+\u001B[39m wsz))\n\u001B[0;32m      3\u001B[0m ax4\u001B[38;5;241m.\u001B[39mset_ydata(sim0[\u001B[38;5;241m-\u001B[39m\u001B[38;5;28mmax\u001B[39m(\u001B[38;5;28mlen\u001B[39m(sim0), wsz):])\n",
      "\u001B[1;31mAttributeError\u001B[0m: 'Axes' object has no attribute 'set_xdata'"
     ]
    }
   ],
   "execution_count": 35
  },
  {
   "metadata": {
    "ExecuteTime": {
     "end_time": "2025-04-26T10:38:32.108143300Z",
     "start_time": "2025-04-25T16:10:32.434804Z"
    }
   },
   "cell_type": "code",
   "source": [
    "lpos = 250\n",
    "rpos = lpos + 128\n",
    "seq_trim = data[lpos:lpos + wsz]\n",
    "events = data[op_names[:3]][lpos:rpos]\n",
    "\n",
    "print(np.any(events))\n",
    "print(events.shape)\n",
    "print(events)"
   ],
   "id": "31b538eeeb218598",
   "outputs": [
    {
     "name": "stdout",
     "output_type": "stream",
     "text": [
      "True\n",
      "(128, 3)\n",
      "       opr_swch  abnorm_evnt  emerg_evnt\n",
      "48698       0.0          0.0         0.0\n",
      "48699       0.0          0.0         0.0\n",
      "48700       0.0          0.0         0.0\n",
      "48701       0.0          0.0         0.0\n",
      "48702       0.0          0.0         0.0\n",
      "...         ...          ...         ...\n",
      "48821       0.0          0.0         0.0\n",
      "48822       0.0          0.0         0.0\n",
      "48823       0.0          0.0         0.0\n",
      "48824       0.0          0.0         0.0\n",
      "48825       0.0          0.0         0.0\n",
      "\n",
      "[128 rows x 3 columns]\n"
     ]
    }
   ],
   "execution_count": 153
  },
  {
   "metadata": {
    "ExecuteTime": {
     "end_time": "2025-04-26T10:38:32.108143300Z",
     "start_time": "2025-04-25T16:12:27.966464Z"
    }
   },
   "cell_type": "code",
   "source": "events.mean().mean()",
   "id": "74dc64ea43fc2209",
   "outputs": [
    {
     "data": {
      "text/plain": [
       "np.float64(0.13541666666666666)"
      ]
     },
     "execution_count": 161,
     "metadata": {},
     "output_type": "execute_result"
    }
   ],
   "execution_count": 161
  },
  {
   "metadata": {},
   "cell_type": "code",
   "outputs": [],
   "execution_count": null,
   "source": "",
   "id": "335a80c324f82b1a"
  }
 ],
 "metadata": {
  "kernelspec": {
   "display_name": "Python 3",
   "language": "python",
   "name": "python3"
  },
  "language_info": {
   "codemirror_mode": {
    "name": "ipython",
    "version": 2
   },
   "file_extension": ".py",
   "mimetype": "text/x-python",
   "name": "python",
   "nbconvert_exporter": "python",
   "pygments_lexer": "ipython2",
   "version": "2.7.6"
  }
 },
 "nbformat": 4,
 "nbformat_minor": 5
}
