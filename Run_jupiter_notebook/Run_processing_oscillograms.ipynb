{
 "cells": [
  {
   "cell_type": "code",
   "execution_count": 1,
   "metadata": {},
   "outputs": [],
   "source": [
    "# записать библиотеки\n",
    "import json\n",
    "\n",
    "import os\n",
    "import sys\n",
    "# Текущая рабочая директория\n",
    "current_dir = os.getcwd()\n",
    "# Корневая директория проекта (если Run_jupiter_notebook находится на одном уровне с другими папками)\n",
    "ROOT_DIR = os.path.abspath(os.path.join(current_dir, os.pardir))\n",
    "# Добавляем корневую директорию в sys.path\n",
    "sys.path.append(ROOT_DIR)\n",
    "from preparing_oscillograms.processing_oscillograms import ProcessingOscillograms"
   ]
  },
  {
   "cell_type": "code",
   "execution_count": 2,
   "metadata": {},
   "outputs": [],
   "source": [
    "# !! ВНИМАНИЕ!! \n",
    "# Файлы SOURCE_DIR будут изменяться, так что необходимо заранее создать копии.\n",
    "# Так же, обработка ведётся только с файлами формата Comtrade (cfg+dat), поэтмоу требуется осуществить предобработку через другие библиотеки или программы"
   ]
  },
  {
   "cell_type": "code",
   "execution_count": 3,
   "metadata": {},
   "outputs": [],
   "source": [
    "# Здесь осущетсвляется подготовка данных.\n",
    "# Требуется актиивровать строки библиотек и указать пути\n",
    "\n",
    "process_osc = ProcessingOscillograms()\n",
    "\n",
    "SOURCE_DIR = 'Путь папки с исходными данными'\n",
    "DEST_DIR = 'Путь куда сохранять'"
   ]
  },
  {
   "cell_type": "code",
   "execution_count": 4,
   "metadata": {},
   "outputs": [
    {
     "name": "stdout",
     "output_type": "stream",
     "text": [
      "Считаем общее количество файлов в исходной директории...\n",
      "Общее количество файлов: 1696, запускаем обработку...\n"
     ]
    },
    {
     "name": "stderr",
     "output_type": "stream",
     "text": [
      "Finding the correct encoding and determining the date: 100%|██████████| 1696/1696 [00:00<00:00, 2748.46it/s]\n"
     ]
    }
   ],
   "source": [
    "# Сохранение информации о датах осциллограмм для дальнейшего отдельного использования.\n",
    "\n",
    "dict_all_dates = {}\n",
    "process_osc.research_coorect_encoding_in_cfg(SOURCE_DIR, act_function=lambda file_path, root, encoding_name: process_osc.detect_date(file_path, root, encoding_name, dict_all_dates))\n",
    "dict_all_dates_path = DEST_DIR + '/dict_all_dates.json'\n",
    "with open(dict_all_dates_path, 'w', encoding='utf-8') as file:\n",
    "    file.write(json.dumps(dict_all_dates))"
   ]
  },
  {
   "cell_type": "code",
   "execution_count": 5,
   "metadata": {},
   "outputs": [
    {
     "name": "stdout",
     "output_type": "stream",
     "text": [
      "Считаем общее количество файлов в исходной директории...\n",
      "Общее количество файлов: 1696, запускаем обработку...\n"
     ]
    },
    {
     "name": "stderr",
     "output_type": "stream",
     "text": [
      "Deleting confidential information: 100%|██████████| 1696/1696 [00:01<00:00, 1669.86it/s]\n"
     ]
    }
   ],
   "source": [
    "# Удаление конфиденциальной информации из всех файлов cfg\n",
    "process_osc.deleting_confidential_information_in_all_files(SOURCE_DIR)"
   ]
  },
  {
   "cell_type": "code",
   "execution_count": 6,
   "metadata": {},
   "outputs": [],
   "source": [
    "# Замена даты и времени осциллограмм на текущую (проходится по файлам ВСЕХ типов)\n",
    "# Сперва можно выполнить функцию извлечения даты и времени: research_coorect_encoding_in_cfg + detect_date\n",
    "process_osc.date_of_change_replacement(SOURCE_DIR)"
   ]
  },
  {
   "cell_type": "code",
   "execution_count": 7,
   "metadata": {},
   "outputs": [
    {
     "name": "stdout",
     "output_type": "stream",
     "text": [
      "Считаем общее количество файлов в исходной директории...\n",
      "Общее количество файлов: 1696, запускаем обработку...\n"
     ]
    },
    {
     "name": "stderr",
     "output_type": "stream",
     "text": [
      "Grouping by sampling rate and network: 100%|██████████| 1696/1696 [00:00<00:00, 5386.56it/s]\n"
     ]
    }
   ],
   "source": [
    "# Сортировка осциллограмм по частоте сэмплирования и частоте сети\n",
    "# Файлы переносятся в новые папки.\n",
    "process_osc.grouping_by_sampling_rate_and_network(SOURCE_DIR)"
   ]
  },
  {
   "cell_type": "code",
   "execution_count": 8,
   "metadata": {},
   "outputs": [
    {
     "name": "stdout",
     "output_type": "stream",
     "text": [
      "Считаем общее количество файлов в исходной директории...\n",
      "Общее количество файлов: 1696, запускаем обработку...\n"
     ]
    },
    {
     "name": "stderr",
     "output_type": "stream",
     "text": [
      "Find all name analog signals: 100%|██████████| 1696/1696 [00:00<00:00, 16243.48it/s]\n"
     ]
    },
    {
     "name": "stdout",
     "output_type": "stream",
     "text": [
      "Считаем общее количество файлов в исходной директории...\n",
      "Общее количество файлов: 1696, запускаем обработку...\n"
     ]
    },
    {
     "name": "stderr",
     "output_type": "stream",
     "text": [
      "Find all name digital signals: 100%|██████████| 1696/1696 [00:00<00:00, 13377.32it/s]\n"
     ]
    }
   ],
   "source": [
    "# Поиск всех имён аналоговых и цифровых сигналов.\n",
    "process_osc.find_all_name_analog_signals(SOURCE_DIR)\n",
    "process_osc.find_all_name_digital_signals(SOURCE_DIR)"
   ]
  },
  {
   "cell_type": "code",
   "execution_count": 9,
   "metadata": {},
   "outputs": [],
   "source": [
    "# С помощью данной функции можно объединить массивы с именами файлов\n",
    "# Старый - это уже отсортированный. Новый - это недавно найденные файлы, на который надо перенести станадртные имена\n",
    "\n",
    "# Пути комбинации файлов csv\n",
    "old_csv_file_path = SOURCE_DIR + '\\\\universal_digital_signals_name_v1.csv'\n",
    "new_csv_file_path = SOURCE_DIR + '\\\\sorted_digital_signals_name.csv'\n",
    "merged_csv_file_path = DEST_DIR + '\\\\merged.csv'\n",
    "\n",
    "process_osc.combining_databases_of_unique_codes(old_csv_file_path, new_csv_file_path, merged_csv_file_path, is_merge_files=True)\n",
    "# is_merge_files - отвечает за объединение сумм, или только перенос имённ. В случае когда стоит True, будет копироваться и сумма."
   ]
  },
  {
   "cell_type": "code",
   "execution_count": 10,
   "metadata": {},
   "outputs": [],
   "source": [
    "# !! ВНИМАНИЕ!! \n",
    "# После нахождения всех имён сигналов, требуется заполнить имена согласно принятым стандартам.\n",
    "# Так же можно использовать заранее подготовленную библиотеку.\n",
    "# Стоит быть внимательным к формату кодировки. По умолчанию стоит \"utf-8\", может быть \"\"windows-1251\" или другие, в зависимости от системы.\n",
    "# А так же к разделителю, по умолчанию 'delimiter=\",'.\n",
    "\n",
    "\n",
    "# Путь к csv файлу универсальных имён (сформированны из сортированных sorted_analog_signals_name и sorted_digital_signals_name)\n",
    "csv_analog_directory  = SOURCE_DIR + '\\\\universal_analog_signals_name_v1.csv'\n",
    "csv_digital_directory = SOURCE_DIR + '\\\\universal_digital_signals_name_v1.csv'"
   ]
  },
  {
   "cell_type": "code",
   "execution_count": 11,
   "metadata": {},
   "outputs": [
    {
     "name": "stdout",
     "output_type": "stream",
     "text": [
      "Считаем общее количество файлов в исходной директории...\n",
      "Общее количество файлов: 1697, запускаем обработку...\n"
     ]
    },
    {
     "name": "stderr",
     "output_type": "stream",
     "text": [
      "Rename analog signals: 100%|██████████| 1697/1697 [00:00<00:00, 6132.17it/s]\n"
     ]
    },
    {
     "name": "stdout",
     "output_type": "stream",
     "text": [
      "Считаем общее количество файлов в исходной директории...\n",
      "Общее количество файлов: 1697, запускаем обработку...\n"
     ]
    },
    {
     "name": "stderr",
     "output_type": "stream",
     "text": [
      "Rename digital signals: 100%|██████████| 1697/1697 [00:00<00:00, 5912.65it/s]\n"
     ]
    }
   ],
   "source": [
    "process_osc.rename_analog_signals(SOURCE_DIR, csv_analog_directory)\n",
    "process_osc.rename_digital_signals(SOURCE_DIR, csv_digital_directory)"
   ]
  },
  {
   "cell_type": "code",
   "execution_count": null,
   "metadata": {},
   "outputs": [],
   "source": [
    "# !! ВНИМАНИЕ!! \n",
    "# Далее требуется удалить все сигналы, которые не соответствуют универсальным.\n",
    "# На данный момент это осуществлояется с помощью APScilloscope версии ML."
   ]
  },
  {
   "cell_type": "code",
   "execution_count": null,
   "metadata": {},
   "outputs": [],
   "source": []
  },
  {
   "cell_type": "code",
   "execution_count": null,
   "metadata": {},
   "outputs": [],
   "source": [
    "# оставшиеся функции создавались для исправления локальных ошибок и могут не требовать обязательно запуска."
   ]
  },
  {
   "cell_type": "code",
   "execution_count": 12,
   "metadata": {},
   "outputs": [],
   "source": [
    "# при ошибке наименования какого либо сигнала, его можно изменить\n",
    "\n",
    "# process_osc.rename_one_signals(SOURCE_DIR, 'I | Bus-3 | phase: N', 'U | BusBar-3 | phase: N')"
   ]
  },
  {
   "cell_type": "code",
   "execution_count": null,
   "metadata": {},
   "outputs": [],
   "source": [
    "# Комбинация файла с hash_table.\n",
    "\n",
    "# combining_json_hash_table(DEST_DIR)"
   ]
  }
 ],
 "metadata": {
  "kernelspec": {
   "display_name": "base",
   "language": "python",
   "name": "python3"
  },
  "language_info": {
   "codemirror_mode": {
    "name": "ipython",
    "version": 3
   },
   "file_extension": ".py",
   "mimetype": "text/x-python",
   "name": "python",
   "nbconvert_exporter": "python",
   "pygments_lexer": "ipython3",
   "version": "3.10.9"
  }
 },
 "nbformat": 4,
 "nbformat_minor": 2
}
