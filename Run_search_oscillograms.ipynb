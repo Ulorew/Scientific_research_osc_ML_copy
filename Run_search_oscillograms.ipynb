{
 "cells": [
  {
   "cell_type": "code",
   "execution_count": 1,
   "metadata": {},
   "outputs": [],
   "source": [
    "# записать библиотеки\n",
    "from search_oscillograms import SearchOscillograms\n",
    "import json"
   ]
  },
  {
   "cell_type": "code",
   "execution_count": 2,
   "metadata": {},
   "outputs": [],
   "source": [
    "SOURCE_DIR = 'Путь папки с исходными данными'\n",
    "DEST_DIR = 'Путь куда сохранять'"
   ]
  },
  {
   "cell_type": "code",
   "execution_count": 3,
   "metadata": {},
   "outputs": [
    {
     "name": "stdout",
     "output_type": "stream",
     "text": [
      "Не удалось прочитать hash_table из JSON файла\n"
     ]
    }
   ],
   "source": [
    "# Здесь осущетсвляется подготовка данных.\n",
    "# Требуется актиивровать строки библиотек и указать пути\n",
    "\n",
    "search_osc = SearchOscillograms()\n",
    "\n",
    "copied_hashes = {}\n",
    "hash_table_path = DEST_DIR +  '/_hash_table.json'\n",
    "try:\n",
    "    with open(hash_table_path, 'r') as file:\n",
    "        copied_hashes = json.load(file)\n",
    "except:\n",
    "    print(\"Не удалось прочитать hash_table из JSON файла\")"
   ]
  },
  {
   "cell_type": "code",
   "execution_count": 4,
   "metadata": {},
   "outputs": [
    {
     "name": "stdout",
     "output_type": "stream",
     "text": [
      "Считаем общее количество файлов в исходной директории...\n",
      "Общее количество файлов: 1731, запускаем обработку...\n"
     ]
    },
    {
     "name": "stderr",
     "output_type": "stream",
     "text": [
      "Copying files: 100%|██████████| 1731/1731 [00:02<00:00, 842.31it/s] "
     ]
    },
    {
     "name": "stdout",
     "output_type": "stream",
     "text": [
      "Количество новых скопированных файлов: 892\n"
     ]
    },
    {
     "name": "stderr",
     "output_type": "stream",
     "text": [
      "\n"
     ]
    },
    {
     "data": {
      "text/plain": [
       "892"
      ]
     },
     "execution_count": 4,
     "metadata": {},
     "output_type": "execute_result"
    }
   ],
   "source": [
    "# Запупуск поиска и копирования \n",
    "search_osc.copy_new_oscillograms(source_dir=SOURCE_DIR, dest_dir=DEST_DIR, copied_hashes=copied_hashes, preserve_dir_structure=False)"
   ]
  },
  {
   "cell_type": "code",
   "execution_count": 5,
   "metadata": {},
   "outputs": [
    {
     "name": "stderr",
     "output_type": "stream",
     "text": [
      "Matching oscillograms: 100%|██████████| 892/892 [00:00<00:00, 46840.26it/s]\n"
     ]
    }
   ],
   "source": [
    "# Поиск осциллограмм относящихся к терминалам. \n",
    "# Актуально для конкретных имён и при доступе к файлу с исходными именами \"_hash_table.json\"\n",
    "\n",
    "source_dir = 'Путь папки с исходными данными'\n",
    "terminal_oscillogram_names = {}\n",
    "# terminal_oscillogram_names[\"t00108\"], terminal_oscillogram_names[\"t00209\"], terminal_oscillogram_names[\"t00331\"], terminal_oscillogram_names[\"t00363\"] = [], [], [], []\n",
    "for i in range(1, 500): # пока лишь до 500, потом расширим\n",
    "    terminal_oscillogram_names[f\"t{i:05}\"] = []\n",
    "\n",
    "search_osc.match_oscillograms_to_terminals(source_dir, copied_hashes, terminal_oscillogram_names)"
   ]
  },
  {
   "cell_type": "code",
   "execution_count": 6,
   "metadata": {},
   "outputs": [
    {
     "name": "stdout",
     "output_type": "stream",
     "text": [
      "Считаем общее количество файлов в исходной директории...\n",
      "Общее количество файлов: 1690, запускаем обработку...\n"
     ]
    },
    {
     "name": "stderr",
     "output_type": "stream",
     "text": [
      "Organize oscillograms: 100%|██████████| 1690/1690 [00:01<00:00, 1137.61it/s]\n"
     ]
    }
   ],
   "source": [
    "# Переносит осциллограмму в папку в соответствии с именами терминалов\n",
    "# Сперва должен быть созан файл \"_osc_name_dict.json\" функцией \"match_oscillograms_to_terminals\"\n",
    "\n",
    "source_dir = 'Путь папки с исходными данными'\n",
    "terminal_oscillogram_names_path = source_dir +  '\\\\_osc_name_dict.json'\n",
    "# Путь к целевой директории куда переносить осциллограммы\n",
    "dataset_for_primary_research_directory = source_dir + '\\\\dataset_for_primary_research'\n",
    "try:\n",
    "    with open(terminal_oscillogram_names_path, 'r') as file:\n",
    "        osc_name_dict = json.load(file)\n",
    "except:\n",
    "    print(\"Не удалось прочитать _osc_name_dict из JSON файла\")\n",
    "terminal_list = []\n",
    "for i in range(1, 100): # пока лишь до 100, потом расширим\n",
    "    terminal_name = f\"t{i:05}\"\n",
    "    terminal_list.append(terminal_name)\n",
    "search_osc.organize_oscillograms_by_terminal(source_dir, dataset_for_primary_research_directory, terminal_list, osc_name_dict, is_hashes=False)\n",
    "# is_hashes=False, так как работа идёт с именами, а не хэшами. Обычно данная обработка используется уже к деперсонализированным данным.\n",
    "# и поэтому устанавливается True (а точнее вообще не указывается эта функция)."
   ]
  }
 ],
 "metadata": {
  "kernelspec": {
   "display_name": "base",
   "language": "python",
   "name": "python3"
  },
  "language_info": {
   "codemirror_mode": {
    "name": "ipython",
    "version": 3
   },
   "file_extension": ".py",
   "mimetype": "text/x-python",
   "name": "python",
   "nbconvert_exporter": "python",
   "pygments_lexer": "ipython3",
   "version": "3.10.9"
  }
 },
 "nbformat": 4,
 "nbformat_minor": 2
}
