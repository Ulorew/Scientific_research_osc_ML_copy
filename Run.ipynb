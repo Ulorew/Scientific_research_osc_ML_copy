{
 "cells": [
  {
   "cell_type": "code",
   "execution_count": 1,
   "metadata": {},
   "outputs": [],
   "source": [
    "# записать библиотеки\n",
    "from search_oscillograms import SearchOscillograms\n",
    "import json"
   ]
  },
  {
   "cell_type": "code",
   "execution_count": 2,
   "metadata": {},
   "outputs": [],
   "source": [
    "SOURCE_DIR = 'Путь папки с исходными данными'\n",
    "DEST_DIR = 'Путь куда сохранять'"
   ]
  },
  {
   "cell_type": "code",
   "execution_count": 3,
   "metadata": {},
   "outputs": [
    {
     "name": "stdout",
     "output_type": "stream",
     "text": [
      "Не удалось прочитать hash_table из JSON файла\n",
      "Считаем общее количество файлов в исходной директории...\n",
      "Общее количество файлов: 1731, запускаем обработку...\n"
     ]
    },
    {
     "name": "stderr",
     "output_type": "stream",
     "text": [
      "Copying files: 100%|██████████| 1731/1731 [00:15<00:00, 111.52it/s]"
     ]
    },
    {
     "name": "stdout",
     "output_type": "stream",
     "text": [
      "Количество новых скопированных файлов: 892\n"
     ]
    },
    {
     "name": "stderr",
     "output_type": "stream",
     "text": [
      "\n"
     ]
    },
    {
     "data": {
      "text/plain": [
       "892"
      ]
     },
     "execution_count": 3,
     "metadata": {},
     "output_type": "execute_result"
    }
   ],
   "source": [
    "search_osc = SearchOscillograms()\n",
    "\n",
    "copied_hashes = {}\n",
    "hash_table_path = DEST_DIR +  '/_hash_table.json'\n",
    "try:\n",
    "    with open(hash_table_path, 'r') as file:\n",
    "        copied_hashes = json.load(file)\n",
    "except:\n",
    "    print(\"Не удалось прочитать hash_table из JSON файла\")\n",
    "search_osc.copy_new_oscillograms(source_dir=SOURCE_DIR, dest_dir=DEST_DIR, copied_hashes=copied_hashes, preserve_dir_structure=False)"
   ]
  },
  {
   "cell_type": "code",
   "execution_count": null,
   "metadata": {},
   "outputs": [],
   "source": []
  }
 ],
 "metadata": {
  "kernelspec": {
   "display_name": "base",
   "language": "python",
   "name": "python3"
  },
  "language_info": {
   "codemirror_mode": {
    "name": "ipython",
    "version": 3
   },
   "file_extension": ".py",
   "mimetype": "text/x-python",
   "name": "python",
   "nbconvert_exporter": "python",
   "pygments_lexer": "ipython3",
   "version": "3.10.9"
  }
 },
 "nbformat": 4,
 "nbformat_minor": 2
}
